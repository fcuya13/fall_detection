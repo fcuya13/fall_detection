{
 "cells": [
  {
   "cell_type": "code",
   "id": "initial_id",
   "metadata": {
    "collapsed": true,
    "ExecuteTime": {
     "end_time": "2025-05-25T18:34:28.027284Z",
     "start_time": "2025-05-25T18:34:19.810153Z"
    }
   },
   "source": [
    "import os\n",
    "import re\n",
    "import time\n",
    "import numpy as np\n",
    "from deepface import DeepFace\n",
    "from sklearn.metrics import accuracy_score, precision_score, recall_score, f1_score\n",
    "import pandas as pd\n",
    "import shutil\n",
    "import random"
   ],
   "outputs": [
    {
     "name": "stdout",
     "output_type": "stream",
     "text": [
      "WARNING:tensorflow:From C:\\Users\\bryan\\anaconda3\\envs\\yolo_fall_detect\\Lib\\site-packages\\tf_keras\\src\\losses.py:2976: The name tf.losses.sparse_softmax_cross_entropy is deprecated. Please use tf.compat.v1.losses.sparse_softmax_cross_entropy instead.\n",
      "\n"
     ]
    }
   ],
   "execution_count": 1
  },
  {
   "metadata": {
    "ExecuteTime": {
     "end_time": "2025-05-25T19:30:35.711418Z",
     "start_time": "2025-05-25T19:30:34.756026Z"
    }
   },
   "cell_type": "code",
   "source": [
    "# Cambia esta ruta a donde tengas las carpetas de LFW\n",
    "DATASET_PATH = \"dataset\\\\lfw\\\\lfw-deepfunneled\\\\lfw-deepfunneled\"\n",
    "\n",
    "def contar_sujetos_con_mas_de_10_fotos_por_carpeta(dataset_path, min_fotos=10):\n",
    "    sujetos = [d for d in os.listdir(dataset_path) if os.path.isdir(os.path.join(dataset_path, d))]\n",
    "    sujetos_con_mas_de_min_fotos = 0\n",
    "    for sujeto in sujetos:\n",
    "        fotos = [f for f in os.listdir(os.path.join(dataset_path, sujeto)) if f.lower().endswith(('.jpg', '.jpeg', '.png'))]\n",
    "        if len(fotos) >= min_fotos:\n",
    "            sujetos_con_mas_de_min_fotos += 1\n",
    "    total_sujetos = len(sujetos)\n",
    "    return sujetos_con_mas_de_min_fotos, total_sujetos\n",
    "\n",
    "\n",
    "sujetos_10omas, total = contar_sujetos_con_mas_de_10_fotos_por_carpeta(DATASET_PATH, min_fotos=10)\n",
    "print(f\"Sujetos con 10 o más fotos: {sujetos_10omas} / {total} ({100*sujetos_10omas/total:.2f}%)\")"
   ],
   "id": "2f96a62a3bc1d51e",
   "outputs": [
    {
     "name": "stdout",
     "output_type": "stream",
     "text": [
      "Sujetos con 10 o más fotos: 158 / 5749 (2.75%)\n"
     ]
    }
   ],
   "execution_count": 11
  },
  {
   "metadata": {
    "ExecuteTime": {
     "end_time": "2025-05-25T19:30:04.326961Z",
     "start_time": "2025-05-25T19:30:04.265842Z"
    }
   },
   "cell_type": "code",
   "source": [
    "# Cambia esta ruta a donde tengas las imágenes de LFW\n",
    "DATASET_PATH = \"dataset/cplfw/images\"\n",
    "\n",
    "def contar_sujetos_con_mas_de_3_fotos(dataset_path, min_fotos=3):\n",
    "    regex = re.compile(r\"(.+?)_\\d+\\.jpg$\")\n",
    "    sujetos = {}\n",
    "    for file in os.listdir(dataset_path):\n",
    "        match = regex.match(file)\n",
    "        if match:\n",
    "            nombre = match.group(1)\n",
    "            sujetos[nombre] = sujetos.get(nombre, 0) + 1\n",
    "    total_sujetos = len(sujetos)\n",
    "    sujetos_con_mas_de_min_fotos = sum(1 for count in sujetos.values() if count >= min_fotos)\n",
    "    return sujetos_con_mas_de_min_fotos, total_sujetos\n",
    "\n",
    "sujetos_3omas, total = contar_sujetos_con_mas_de_3_fotos(DATASET_PATH, min_fotos=3)\n",
    "print(f\"Sujetos con 3 o más fotos: {sujetos_3omas} / {total} ({100*sujetos_3omas/total:.2f}%)\")"
   ],
   "id": "7b8681e3e8c5abcb",
   "outputs": [
    {
     "name": "stdout",
     "output_type": "stream",
     "text": [
      "Sujetos con 3 o más fotos: 3811 / 3929 (97.00%)\n"
     ]
    }
   ],
   "execution_count": 10
  },
  {
   "metadata": {
    "ExecuteTime": {
     "end_time": "2025-05-25T19:35:52.371316Z",
     "start_time": "2025-05-25T19:35:48.155598Z"
    }
   },
   "cell_type": "code",
   "source": [
    "LFW_PATH = \"dataset/lfw/lfw-deepfunneled/lfw-deepfunneled\"\n",
    "CPLFW_PATH = \"dataset/cplfw/images\"\n",
    "OUTPUT_PATH = \"dataset/merged_lfw_cplfw\"\n",
    "\n",
    "def obtener_imagenes_lfw(lfw_path, min_fotos=10):\n",
    "    sujetos_validos = {}\n",
    "    for sujeto in os.listdir(lfw_path):\n",
    "        path_sujeto = os.path.join(lfw_path, sujeto)\n",
    "        if os.path.isdir(path_sujeto):\n",
    "            fotos = sorted([f for f in os.listdir(path_sujeto) if f.lower().endswith(('.jpg', '.jpeg', '.png'))])\n",
    "            if len(fotos) >= min_fotos:\n",
    "                sujetos_validos[sujeto] = fotos[:10]  # exactamente 10, las primeras en orden\n",
    "    return sujetos_validos\n",
    "\n",
    "def obtener_imagenes_cplfw(cplfw_path, sujetos_validos):\n",
    "    regex = re.compile(r\"(.+?)_(\\d+)\\.jpg$\")\n",
    "    sujetos_cplfw = {}\n",
    "    for file in os.listdir(cplfw_path):\n",
    "        match = regex.match(file)\n",
    "        if match:\n",
    "            nombre = match.group(1)\n",
    "            idx = int(match.group(2))\n",
    "            if nombre in sujetos_validos and idx >= 2:\n",
    "                sujetos_cplfw.setdefault(nombre, []).append(file)\n",
    "    # Solo nos quedamos con sujetos que tengan al menos una imagen >=_2\n",
    "    sujetos_cplfw = {k: v for k, v in sujetos_cplfw.items() if len(v) > 0}\n",
    "    return sujetos_cplfw\n",
    "\n",
    "def merge_lfw_cplfw(lfw_path, cplfw_path, min_lfw=10):\n",
    "    sujetos_lfw = obtener_imagenes_lfw(lfw_path, min_lfw)\n",
    "    sujetos_cplfw = obtener_imagenes_cplfw(cplfw_path, sujetos_lfw)\n",
    "    sujetos_comunes = set(sujetos_lfw.keys()) & set(sujetos_cplfw.keys())\n",
    "    sujetos_lfw = {k: sujetos_lfw[k] for k in sujetos_comunes}\n",
    "    sujetos_cplfw = {k: sujetos_cplfw[k] for k in sujetos_comunes}\n",
    "    return sujetos_lfw, sujetos_cplfw\n",
    "\n",
    "def copiar_imagenes_a_nueva_carpeta(lfw, cplfw, lfw_path, cplfw_path, output_path):\n",
    "    if not os.path.exists(output_path):\n",
    "        os.makedirs(output_path)\n",
    "    for sujeto in lfw:\n",
    "        out_sujeto_path = os.path.join(output_path, sujeto)\n",
    "        if not os.path.exists(out_sujeto_path):\n",
    "            os.makedirs(out_sujeto_path)\n",
    "        # Copia imágenes base (LFW)\n",
    "        for img in lfw[sujeto]:\n",
    "            src = os.path.join(lfw_path, sujeto, img)\n",
    "            dst = os.path.join(out_sujeto_path, \"lfw_\" + img)\n",
    "            shutil.copy2(src, dst)\n",
    "        # Copia imágenes de test (CPLFW)\n",
    "        for img in cplfw[sujeto]:\n",
    "            src = os.path.join(cplfw_path, img)\n",
    "            dst = os.path.join(out_sujeto_path, \"cplfw_\" + img)\n",
    "            shutil.copy2(src, dst)\n",
    "\n",
    "lfw, cplfw = merge_lfw_cplfw(LFW_PATH, CPLFW_PATH)\n",
    "print(f\"Copiando sujetos en común: {len(lfw)}\")\n",
    "copiar_imagenes_a_nueva_carpeta(lfw, cplfw, LFW_PATH, CPLFW_PATH, OUTPUT_PATH)\n",
    "print(f\"¡Listo! Las imágenes se copiaron en {OUTPUT_PATH}\")"
   ],
   "id": "7536922589c6af4d",
   "outputs": [
    {
     "name": "stdout",
     "output_type": "stream",
     "text": [
      "Copiando sujetos en común: 135\n",
      "¡Listo! Las imágenes se copiaron en dataset/merged_lfw_cplfw\n"
     ]
    }
   ],
   "execution_count": 12
  },
  {
   "metadata": {
    "ExecuteTime": {
     "end_time": "2025-05-25T23:18:53.026735Z",
     "start_time": "2025-05-25T23:18:50.635356Z"
    }
   },
   "cell_type": "code",
   "source": [
    "LFW_PATH = \"dataset/lfw/lfw-deepfunneled/lfw-deepfunneled\"\n",
    "CPLFW_PATH = \"dataset/cplfw/images\"\n",
    "OUTPUT_PATH = \"dataset/merged_lfw_cplfw_50\"\n",
    "N_SUJETOS = 50\n",
    "RANDOM_SEED = 42\n",
    "\n",
    "def obtener_imagenes_lfw(lfw_path, min_fotos=10):\n",
    "    sujetos_validos = {}\n",
    "    for sujeto in os.listdir(lfw_path):\n",
    "        path_sujeto = os.path.join(lfw_path, sujeto)\n",
    "        if os.path.isdir(path_sujeto):\n",
    "            fotos = sorted([f for f in os.listdir(path_sujeto) if f.lower().endswith(('.jpg', '.jpeg', '.png'))])\n",
    "            if len(fotos) >= min_fotos:\n",
    "                sujetos_validos[sujeto] = fotos[:10]\n",
    "    return sujetos_validos\n",
    "\n",
    "def obtener_imagenes_cplfw(cplfw_path, sujetos_validos):\n",
    "    regex = re.compile(r\"(.+?)_(\\d+)\\.jpg$\")\n",
    "    sujetos_cplfw = {}\n",
    "    for file in os.listdir(cplfw_path):\n",
    "        match = regex.match(file)\n",
    "        if match:\n",
    "            nombre = match.group(1)\n",
    "            idx = int(match.group(2))\n",
    "            if nombre in sujetos_validos and idx >= 2:\n",
    "                sujetos_cplfw.setdefault(nombre, []).append(file)\n",
    "    sujetos_cplfw = {k: v for k, v in sujetos_cplfw.items() if len(v) > 0}\n",
    "    return sujetos_cplfw\n",
    "\n",
    "def merge_lfw_cplfw(lfw_path, cplfw_path, min_lfw=10):\n",
    "    sujetos_lfw = obtener_imagenes_lfw(lfw_path, min_lfw)\n",
    "    sujetos_cplfw = obtener_imagenes_cplfw(cplfw_path, sujetos_lfw)\n",
    "    sujetos_comunes = set(sujetos_lfw.keys()) & set(sujetos_cplfw.keys())\n",
    "    sujetos_lfw = {k: sujetos_lfw[k] for k in sujetos_comunes}\n",
    "    sujetos_cplfw = {k: sujetos_cplfw[k] for k in sujetos_comunes}\n",
    "    return sujetos_lfw, sujetos_cplfw\n",
    "\n",
    "def copiar_imagenes_a_nueva_carpeta(lfw, cplfw, lfw_path, cplfw_path, output_path):\n",
    "    if not os.path.exists(output_path):\n",
    "        os.makedirs(output_path)\n",
    "    for sujeto in lfw:\n",
    "        out_sujeto_path = os.path.join(output_path, sujeto)\n",
    "        if not os.path.exists(out_sujeto_path):\n",
    "            os.makedirs(out_sujeto_path)\n",
    "        for img in lfw[sujeto]:\n",
    "            src = os.path.join(lfw_path, sujeto, img)\n",
    "            dst = os.path.join(out_sujeto_path, \"lfw_\" + img)\n",
    "            shutil.copy2(src, dst)\n",
    "        for img in cplfw[sujeto]:\n",
    "            src = os.path.join(cplfw_path, img)\n",
    "            dst = os.path.join(out_sujeto_path, \"cplfw_\" + img)\n",
    "            shutil.copy2(src, dst)\n",
    "\n",
    "lfw, cplfw = merge_lfw_cplfw(LFW_PATH, CPLFW_PATH)\n",
    "sujetos_comunes = list(lfw.keys())\n",
    "print(f\"Sujetos en común antes del muestreo: {len(sujetos_comunes)}\")\n",
    "# Selección aleatoria reproducible\n",
    "random.seed(RANDOM_SEED)\n",
    "if len(sujetos_comunes) < N_SUJETOS:\n",
    "    print(f\"¡Advertencia! Solo hay {len(sujetos_comunes)} sujetos. Usando todos.\")\n",
    "    sujetos_seleccionados = sujetos_comunes\n",
    "else:\n",
    "    sujetos_seleccionados = random.sample(sujetos_comunes, N_SUJETOS)\n",
    "# Filtra los diccionarios para solo esos sujetos\n",
    "lfw = {k: lfw[k] for k in sujetos_seleccionados}\n",
    "cplfw = {k: cplfw[k] for k in sujetos_seleccionados}\n",
    "print(f\"Copiando sujetos seleccionados: {len(lfw)}\")\n",
    "copiar_imagenes_a_nueva_carpeta(lfw, cplfw, LFW_PATH, CPLFW_PATH, OUTPUT_PATH)\n",
    "print(f\"¡Listo! Las imágenes de 50 sujetos seleccionados se copiaron en {OUTPUT_PATH}\")"
   ],
   "id": "8b1502238ccfcd22",
   "outputs": [
    {
     "name": "stdout",
     "output_type": "stream",
     "text": [
      "Sujetos en común antes del muestreo: 135\n",
      "Copiando sujetos seleccionados: 50\n",
      "¡Listo! Las imágenes de 50 sujetos seleccionados se copiaron en dataset/merged_lfw_cplfw_50\n"
     ]
    }
   ],
   "execution_count": 3
  }
 ],
 "metadata": {
  "kernelspec": {
   "display_name": "Python 3",
   "language": "python",
   "name": "python3"
  },
  "language_info": {
   "codemirror_mode": {
    "name": "ipython",
    "version": 2
   },
   "file_extension": ".py",
   "mimetype": "text/x-python",
   "name": "python",
   "nbconvert_exporter": "python",
   "pygments_lexer": "ipython2",
   "version": "2.7.6"
  }
 },
 "nbformat": 4,
 "nbformat_minor": 5
}
