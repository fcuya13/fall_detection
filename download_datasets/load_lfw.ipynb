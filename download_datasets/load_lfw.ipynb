{
 "cells": [
  {
   "metadata": {
    "ExecuteTime": {
     "end_time": "2025-05-15T03:14:22.104473Z",
     "start_time": "2025-05-15T03:11:50.331994Z"
    }
   },
   "cell_type": "code",
   "source": [
    "from sklearn.datasets import fetch_lfw_people\n",
    "\n",
    "lfw_people = fetch_lfw_people(data_home=\"../data/LFW\", resize=0.4, min_faces_per_person=10)\n",
    "\n",
    "# introspect the images arrays to find the shapes (for plotting)\n",
    "n_samples, h, w = lfw_people.images.shape\n",
    "\n",
    "# for machine learning we use the 2 data directly (as relative pixel\n",
    "# positions info is ignored by this model)\n",
    "X = lfw_people.data\n",
    "n_features = X.shape[1]\n",
    "\n",
    "# the label to predict is the id of the person\n",
    "y = lfw_people.target\n",
    "target_names = lfw_people.target_names\n",
    "n_classes = target_names.shape[0]\n",
    "\n",
    "print(\"Total dataset size:\")\n",
    "print(\"n_samples: %d\" % n_samples)\n",
    "print(\"n_features: %d\" % n_features)\n",
    "print(\"n_classes: %d\" % n_classes)"
   ],
   "id": "233f6d47a5cbd6c7",
   "outputs": [
    {
     "name": "stdout",
     "output_type": "stream",
     "text": [
      "Total dataset size:\n",
      "n_samples: 4324\n",
      "n_features: 1850\n",
      "n_classes: 158\n"
     ]
    }
   ],
   "execution_count": 1
  },
  {
   "metadata": {
    "ExecuteTime": {
     "end_time": "2025-05-15T03:15:45.245182Z",
     "start_time": "2025-05-15T03:15:45.088174Z"
    }
   },
   "cell_type": "code",
   "source": [
    "from sklearn.model_selection import train_test_split\n",
    "\n",
    "X_train, X_test, y_train, y_test = train_test_split(\n",
    "    X, y, test_size=0.25, random_state=42\n",
    ")"
   ],
   "id": "344cad70da56ee36",
   "outputs": [],
   "execution_count": 2
  },
  {
   "metadata": {
    "ExecuteTime": {
     "end_time": "2025-05-15T03:20:08.606754Z",
     "start_time": "2025-05-15T03:20:08.600755Z"
    }
   },
   "cell_type": "code",
   "source": [
    "DATASET_PATH = (\n",
    "    \"../data/LFW/lfw_home/lfw_funneled\"  # Location of the LFW People dataset on your local system.\n",
    ")\n",
    "PROCESSED_DATASET_PATH = (\n",
    "    \"../data/LFW/lfw_home/processed_dataset\"  # Location of the pre-processed dataset on your local system.\n",
    ")"
   ],
   "id": "8afa3098b2e3bc07",
   "outputs": [],
   "execution_count": 4
  },
  {
   "metadata": {
    "ExecuteTime": {
     "end_time": "2025-05-15T03:20:17.031825Z",
     "start_time": "2025-05-15T03:20:17.022772Z"
    }
   },
   "cell_type": "code",
   "source": [
    "import os\n",
    "import glob\n",
    "import shutil\n",
    "\n",
    "def preprocess_dataset():\n",
    "    \"\"\"\n",
    "    Pre-processing the dataset by fetching all the images across all the sub-folders and\n",
    "    placing them under a common directory path.\n",
    "    \"\"\"\n",
    "    print(\"Starting pre-processing of the LFW People dataset\")\n",
    "    try:\n",
    "        os.mkdir(PROCESSED_DATASET_PATH)\n",
    "        for folder in os.listdir(DATASET_PATH):\n",
    "            src_dir = os.path.join(DATASET_PATH, folder)\n",
    "            for jpgfile in glob.iglob(os.path.join(src_dir, \"*.jpg\")):\n",
    "                shutil.copy(jpgfile, PROCESSED_DATASET_PATH)\n",
    "        print(\"Sucessfully prepared the pre-processed dataset for Image recognition\")\n",
    "    except Exception as err:\n",
    "        print(f\"ERROR: Pre-processing failed with error: {err}\")\n",
    "        return False\n",
    "    return True"
   ],
   "id": "2cbe1b0818c8cb31",
   "outputs": [],
   "execution_count": 6
  },
  {
   "metadata": {
    "ExecuteTime": {
     "end_time": "2025-05-15T03:21:07.373447Z",
     "start_time": "2025-05-15T03:20:36.491217Z"
    }
   },
   "cell_type": "code",
   "source": "preprocess_dataset()",
   "id": "27e03fbe9b2356e3",
   "outputs": [
    {
     "name": "stdout",
     "output_type": "stream",
     "text": [
      "Starting pre-processing of the LFW People dataset\n",
      "Sucessfully prepared the pre-processed dataset for Image recognition\n"
     ]
    },
    {
     "data": {
      "text/plain": [
       "True"
      ]
     },
     "execution_count": 7,
     "metadata": {},
     "output_type": "execute_result"
    }
   ],
   "execution_count": 7
  }
 ],
 "metadata": {
  "kernelspec": {
   "display_name": "Python 3",
   "language": "python",
   "name": "python3"
  },
  "language_info": {
   "codemirror_mode": {
    "name": "ipython",
    "version": 2
   },
   "file_extension": ".py",
   "mimetype": "text/x-python",
   "name": "python",
   "nbconvert_exporter": "python",
   "pygments_lexer": "ipython2",
   "version": "2.7.6"
  }
 },
 "nbformat": 4,
 "nbformat_minor": 5
}
