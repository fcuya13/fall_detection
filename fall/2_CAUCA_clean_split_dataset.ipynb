{
 "cells": [
  {
   "metadata": {
    "ExecuteTime": {
     "end_time": "2025-04-28T21:25:20.387957Z",
     "start_time": "2025-04-28T21:25:20.380333Z"
    }
   },
   "cell_type": "code",
   "source": [
    "import os\n",
    "import shutil\n",
    "import random"
   ],
   "id": "91ba7095ee26a65f",
   "outputs": [],
   "execution_count": 1
  },
  {
   "cell_type": "code",
   "id": "initial_id",
   "metadata": {
    "collapsed": true,
    "ExecuteTime": {
     "end_time": "2025-04-28T21:27:09.194057Z",
     "start_time": "2025-04-28T21:27:09.175006Z"
    }
   },
   "source": [
    "def split_dataset(images_dir, labels_dir, output_dir, train_ratio=0.8, val_ratio=0.12, test_ratio=0.08, seed=42):\n",
    "    # Crear carpetas de salida\n",
    "    for split in ['train', 'val', 'test']:\n",
    "        os.makedirs(os.path.join(output_dir, split, 'images'), exist_ok=True)\n",
    "        os.makedirs(os.path.join(output_dir, split, 'labels'), exist_ok=True)\n",
    "\n",
    "    fall_files = []\n",
    "    nofall_files = []\n",
    "\n",
    "    # Recorrer imágenes y clasificar según el label\n",
    "    image_files = [f for f in os.listdir(images_dir) if f.endswith(('.jpg', '.png', '.jpeg'))]\n",
    "\n",
    "    for img_file in image_files:\n",
    "        label_file = img_file.rsplit('.', 1)[0] + '.txt'\n",
    "        label_path = os.path.join(labels_dir, label_file)\n",
    "\n",
    "        if not os.path.exists(label_path):\n",
    "            continue  # Saltar si no tiene label\n",
    "\n",
    "        # Leer el label para ver si es \"fall\" o \"no fall\"\n",
    "        with open(label_path, 'r') as f:\n",
    "            contenido = f.read().strip()\n",
    "\n",
    "            if not contenido:\n",
    "                continue  # Saltar si el label está vacío\n",
    "\n",
    "            clases = [int(line.split()[0]) for line in contenido.splitlines()]\n",
    "\n",
    "            if 1 in clases:\n",
    "                fall_files.append(img_file)\n",
    "            else:\n",
    "                nofall_files.append(img_file)\n",
    "\n",
    "    print(f\"Total Fall: {len(fall_files)}, Total No Fall: {len(nofall_files)}\")\n",
    "\n",
    "    # Mezclar aleatoriamente cada grupo\n",
    "    random.seed(seed)\n",
    "    random.shuffle(fall_files)\n",
    "    random.shuffle(nofall_files)\n",
    "\n",
    "    def dividir_lista(lista):\n",
    "        total = len(lista)\n",
    "        train_size = int(total * train_ratio)\n",
    "        val_size = int(total * val_ratio)\n",
    "\n",
    "        train_files = lista[:train_size]\n",
    "        val_files = lista[train_size:train_size + val_size]\n",
    "        test_files = lista[train_size + val_size:]\n",
    "\n",
    "        return train_files, val_files, test_files\n",
    "\n",
    "    # Dividir cada clase\n",
    "    fall_train, fall_val, fall_test = dividir_lista(fall_files)\n",
    "    nofall_train, nofall_val, nofall_test = dividir_lista(nofall_files)\n",
    "\n",
    "    # Unir las listas\n",
    "    train_files = fall_train + nofall_train\n",
    "    val_files = fall_val + nofall_val\n",
    "    test_files = fall_test + nofall_test\n",
    "\n",
    "    # Volver a mezclar dentro de cada split\n",
    "    random.shuffle(train_files)\n",
    "    random.shuffle(val_files)\n",
    "    random.shuffle(test_files)\n",
    "\n",
    "    splits = [('train', train_files), ('val', val_files), ('test', test_files)]\n",
    "\n",
    "    # Copiar archivos\n",
    "    for split_name, split_files in splits:\n",
    "        for img_file in split_files:\n",
    "            label_file = img_file.rsplit('.', 1)[0] + '.txt'\n",
    "\n",
    "            shutil.copy(os.path.join(images_dir, img_file), os.path.join(output_dir, split_name, 'images', img_file))\n",
    "            shutil.copy(os.path.join(labels_dir, label_file), os.path.join(output_dir, split_name, 'labels', label_file))\n",
    "\n",
    "    print(\"Separación balanceada completada exitosamente.\")"
   ],
   "outputs": [],
   "execution_count": 5
  },
  {
   "metadata": {
    "ExecuteTime": {
     "end_time": "2025-04-28T21:33:32.508737Z",
     "start_time": "2025-04-28T21:27:11.012117Z"
    }
   },
   "cell_type": "code",
   "source": [
    "images_dir = 'dataset/CAUCAFall/all_imgs'\n",
    "labels_dir = 'dataset/CAUCAFall/all_labels'\n",
    "output_dir = \"dataset/CAUCAFall/cleaned_dataset\"\n",
    "\n",
    "split_dataset(images_dir, labels_dir, output_dir)"
   ],
   "id": "dcea9e904527a7b9",
   "outputs": [
    {
     "name": "stdout",
     "output_type": "stream",
     "text": [
      "Total Fall: 6388, Total No Fall: 13607\n",
      "Separación balanceada completada exitosamente.\n"
     ]
    }
   ],
   "execution_count": 6
  },
  {
   "metadata": {},
   "cell_type": "markdown",
   "source": "",
   "id": "a067e8491118057e"
  }
 ],
 "metadata": {
  "kernelspec": {
   "display_name": "Python 3",
   "language": "python",
   "name": "python3"
  },
  "language_info": {
   "codemirror_mode": {
    "name": "ipython",
    "version": 2
   },
   "file_extension": ".py",
   "mimetype": "text/x-python",
   "name": "python",
   "nbconvert_exporter": "python",
   "pygments_lexer": "ipython2",
   "version": "2.7.6"
  }
 },
 "nbformat": 4,
 "nbformat_minor": 5
}
