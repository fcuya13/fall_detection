{
 "cells": [
  {
   "cell_type": "markdown",
   "id": "59b076ef",
   "metadata": {},
   "source": [
    "# Evaluate DeepFace's Results In The Big Picture"
   ]
  },
  {
   "cell_type": "code",
   "id": "79200f8c",
   "metadata": {
    "ExecuteTime": {
     "end_time": "2025-05-16T01:28:28.541554Z",
     "start_time": "2025-05-16T01:28:28.536579Z"
    }
   },
   "source": [
    "import pandas as pd\n",
    "from IPython.display import display, HTML\n",
    "from sklearn import metrics\n",
    "import matplotlib.pyplot as plt"
   ],
   "outputs": [],
   "execution_count": 3
  },
  {
   "cell_type": "code",
   "id": "bbc11592",
   "metadata": {
    "ExecuteTime": {
     "end_time": "2025-05-16T01:28:28.553684Z",
     "start_time": "2025-05-16T01:28:28.548091Z"
    }
   },
   "source": [
    "# all configuration alternatives for 4 dimensions of arguments\n",
    "alignment = True\n",
    "models = [\"Facenet\", \"VGG-Face\", \"ArcFace\", \"GhostFaceNet\", \"OpenFace\"]\n",
    "detectors = [\"retinaface\", \"centerface\", \"yunet\", \"yolov8\"]\n",
    "distance_metrics = [\"euclidean\", \"euclidean_l2\", \"cosine\"]"
   ],
   "outputs": [],
   "execution_count": 4
  },
  {
   "cell_type": "markdown",
   "id": "e0dabf1b",
   "metadata": {},
   "source": [
    "# Main results"
   ]
  },
  {
   "cell_type": "code",
   "id": "03b09fa3",
   "metadata": {
    "scrolled": false,
    "ExecuteTime": {
     "end_time": "2025-05-16T01:29:03.766899Z",
     "start_time": "2025-05-16T01:29:03.701183Z"
    }
   },
   "source": [
    "for metric in distance_metrics:\n",
    "    df = pd.read_csv(f\"results/pivot_{metric}.csv\")\n",
    "    df = df.rename(columns = {'Unnamed: 0': 'detector'})\n",
    "    df = df.set_index('detector')\n",
    "\n",
    "    print(f\"{metric}\")\n",
    "    display(HTML(df.to_html()))\n",
    "    display(HTML(\"<hr>\"))"
   ],
   "outputs": [
    {
     "name": "stdout",
     "output_type": "stream",
     "text": [
      "euclidean\n"
     ]
    },
    {
     "data": {
      "text/plain": [
       "<IPython.core.display.HTML object>"
      ],
      "text/html": [
       "<table border=\"1\" class=\"dataframe\">\n",
       "  <thead>\n",
       "    <tr style=\"text-align: right;\">\n",
       "      <th></th>\n",
       "      <th>Facenet</th>\n",
       "      <th>VGG-Face</th>\n",
       "      <th>ArcFace</th>\n",
       "      <th>GhostFaceNet</th>\n",
       "      <th>OpenFace</th>\n",
       "    </tr>\n",
       "    <tr>\n",
       "      <th>detector</th>\n",
       "      <th></th>\n",
       "      <th></th>\n",
       "      <th></th>\n",
       "      <th></th>\n",
       "      <th></th>\n",
       "    </tr>\n",
       "  </thead>\n",
       "  <tbody>\n",
       "    <tr>\n",
       "      <th>retinaface</th>\n",
       "      <td>85.9</td>\n",
       "      <td>93.5</td>\n",
       "      <td>82.3</td>\n",
       "      <td>81.4</td>\n",
       "      <td>70.9</td>\n",
       "    </tr>\n",
       "    <tr>\n",
       "      <th>centerface</th>\n",
       "      <td>90.1</td>\n",
       "      <td>94.2</td>\n",
       "      <td>80.1</td>\n",
       "      <td>83.1</td>\n",
       "      <td>68.1</td>\n",
       "    </tr>\n",
       "    <tr>\n",
       "      <th>yunet</th>\n",
       "      <td>89.6</td>\n",
       "      <td>94.1</td>\n",
       "      <td>79.3</td>\n",
       "      <td>82.4</td>\n",
       "      <td>69.1</td>\n",
       "    </tr>\n",
       "    <tr>\n",
       "      <th>yolov8</th>\n",
       "      <td>86.1</td>\n",
       "      <td>94.2</td>\n",
       "      <td>80.9</td>\n",
       "      <td>82.4</td>\n",
       "      <td>68.1</td>\n",
       "    </tr>\n",
       "  </tbody>\n",
       "</table>"
      ]
     },
     "metadata": {},
     "output_type": "display_data"
    },
    {
     "data": {
      "text/plain": [
       "<IPython.core.display.HTML object>"
      ],
      "text/html": [
       "<hr>"
      ]
     },
     "metadata": {},
     "output_type": "display_data"
    },
    {
     "name": "stdout",
     "output_type": "stream",
     "text": [
      "euclidean_l2\n"
     ]
    },
    {
     "data": {
      "text/plain": [
       "<IPython.core.display.HTML object>"
      ],
      "text/html": [
       "<table border=\"1\" class=\"dataframe\">\n",
       "  <thead>\n",
       "    <tr style=\"text-align: right;\">\n",
       "      <th></th>\n",
       "      <th>Facenet</th>\n",
       "      <th>VGG-Face</th>\n",
       "      <th>ArcFace</th>\n",
       "      <th>GhostFaceNet</th>\n",
       "      <th>OpenFace</th>\n",
       "    </tr>\n",
       "    <tr>\n",
       "      <th>detector</th>\n",
       "      <th></th>\n",
       "      <th></th>\n",
       "      <th></th>\n",
       "      <th></th>\n",
       "      <th></th>\n",
       "    </tr>\n",
       "  </thead>\n",
       "  <tbody>\n",
       "    <tr>\n",
       "      <th>retinaface</th>\n",
       "      <td>92.3</td>\n",
       "      <td>93.5</td>\n",
       "      <td>93.3</td>\n",
       "      <td>88.9</td>\n",
       "      <td>70.9</td>\n",
       "    </tr>\n",
       "    <tr>\n",
       "      <th>centerface</th>\n",
       "      <td>91.8</td>\n",
       "      <td>94.2</td>\n",
       "      <td>93.6</td>\n",
       "      <td>87.7</td>\n",
       "      <td>68.1</td>\n",
       "    </tr>\n",
       "    <tr>\n",
       "      <th>yunet</th>\n",
       "      <td>89.5</td>\n",
       "      <td>94.1</td>\n",
       "      <td>91.5</td>\n",
       "      <td>87.1</td>\n",
       "      <td>69.1</td>\n",
       "    </tr>\n",
       "    <tr>\n",
       "      <th>yolov8</th>\n",
       "      <td>92.2</td>\n",
       "      <td>94.2</td>\n",
       "      <td>93.5</td>\n",
       "      <td>90.6</td>\n",
       "      <td>68.1</td>\n",
       "    </tr>\n",
       "  </tbody>\n",
       "</table>"
      ]
     },
     "metadata": {},
     "output_type": "display_data"
    },
    {
     "data": {
      "text/plain": [
       "<IPython.core.display.HTML object>"
      ],
      "text/html": [
       "<hr>"
      ]
     },
     "metadata": {},
     "output_type": "display_data"
    },
    {
     "name": "stdout",
     "output_type": "stream",
     "text": [
      "cosine\n"
     ]
    },
    {
     "data": {
      "text/plain": [
       "<IPython.core.display.HTML object>"
      ],
      "text/html": [
       "<table border=\"1\" class=\"dataframe\">\n",
       "  <thead>\n",
       "    <tr style=\"text-align: right;\">\n",
       "      <th></th>\n",
       "      <th>Facenet</th>\n",
       "      <th>VGG-Face</th>\n",
       "      <th>ArcFace</th>\n",
       "      <th>GhostFaceNet</th>\n",
       "      <th>OpenFace</th>\n",
       "    </tr>\n",
       "    <tr>\n",
       "      <th>detector</th>\n",
       "      <th></th>\n",
       "      <th></th>\n",
       "      <th></th>\n",
       "      <th></th>\n",
       "      <th></th>\n",
       "    </tr>\n",
       "  </thead>\n",
       "  <tbody>\n",
       "    <tr>\n",
       "      <th>retinaface</th>\n",
       "      <td>92.3</td>\n",
       "      <td>93.5</td>\n",
       "      <td>93.3</td>\n",
       "      <td>88.9</td>\n",
       "      <td>70.9</td>\n",
       "    </tr>\n",
       "    <tr>\n",
       "      <th>centerface</th>\n",
       "      <td>91.8</td>\n",
       "      <td>94.2</td>\n",
       "      <td>93.6</td>\n",
       "      <td>87.7</td>\n",
       "      <td>67.8</td>\n",
       "    </tr>\n",
       "    <tr>\n",
       "      <th>yunet</th>\n",
       "      <td>89.5</td>\n",
       "      <td>94.1</td>\n",
       "      <td>91.5</td>\n",
       "      <td>87.1</td>\n",
       "      <td>69.1</td>\n",
       "    </tr>\n",
       "    <tr>\n",
       "      <th>yolov8</th>\n",
       "      <td>92.2</td>\n",
       "      <td>94.2</td>\n",
       "      <td>93.5</td>\n",
       "      <td>90.6</td>\n",
       "      <td>68.1</td>\n",
       "    </tr>\n",
       "  </tbody>\n",
       "</table>"
      ]
     },
     "metadata": {},
     "output_type": "display_data"
    },
    {
     "data": {
      "text/plain": [
       "<IPython.core.display.HTML object>"
      ],
      "text/html": [
       "<hr>"
      ]
     },
     "metadata": {},
     "output_type": "display_data"
    }
   ],
   "execution_count": 7
  },
  {
   "cell_type": "code",
   "id": "aef6dc64",
   "metadata": {
    "ExecuteTime": {
     "end_time": "2025-05-16T01:29:47.642260Z",
     "start_time": "2025-05-16T01:29:47.630987Z"
    }
   },
   "source": [
    "def create_github_table():\n",
    "    for metric in distance_metrics:\n",
    "\n",
    "        df = pd.read_csv(f\"results/pivot_{metric}.csv\")\n",
    "        df = df.rename(columns = {'Unnamed: 0': 'detector'})\n",
    "        df = df.set_index('detector')\n",
    "\n",
    "        print(f\"Performance Matrix for {metric}\\n\")\n",
    "        header = \"| | \"\n",
    "        for col_name in df.columns.tolist():\n",
    "            header += f\"{col_name} |\"\n",
    "        print(header)\n",
    "        # -------------------------------\n",
    "        seperator = \"| --- | \"\n",
    "        for col_name in df.columns.tolist():\n",
    "            seperator += \" --- |\"\n",
    "        print(seperator)\n",
    "        # -------------------------------\n",
    "        for index, instance in df.iterrows():\n",
    "            line = f\"| {instance.name} |\"\n",
    "            for i in instance.values:\n",
    "                if i < 97.5:\n",
    "                    line += f\"{i} |\"\n",
    "                else:\n",
    "                    line += f\"**{i}** |\"\n",
    "            print(line)\n",
    "\n",
    "        print(\"\\n---------------------------\")"
   ],
   "outputs": [],
   "execution_count": 8
  },
  {
   "cell_type": "code",
   "id": "5004caaa",
   "metadata": {
    "ExecuteTime": {
     "end_time": "2025-05-16T01:29:50.692112Z",
     "start_time": "2025-05-16T01:29:50.672495Z"
    }
   },
   "source": "create_github_table()",
   "outputs": [
    {
     "name": "stdout",
     "output_type": "stream",
     "text": [
      "Performance Matrix for euclidean\n",
      "\n",
      "| | Facenet |VGG-Face |ArcFace |GhostFaceNet |OpenFace |\n",
      "| --- |  --- | --- | --- | --- | --- |\n",
      "| retinaface |85.9 |93.5 |82.3 |81.4 |70.9 |\n",
      "| centerface |90.1 |94.2 |80.1 |83.1 |68.1 |\n",
      "| yunet |89.6 |94.1 |79.3 |82.4 |69.1 |\n",
      "| yolov8 |86.1 |94.2 |80.9 |82.4 |68.1 |\n",
      "\n",
      "---------------------------\n",
      "Performance Matrix for euclidean_l2\n",
      "\n",
      "| | Facenet |VGG-Face |ArcFace |GhostFaceNet |OpenFace |\n",
      "| --- |  --- | --- | --- | --- | --- |\n",
      "| retinaface |92.3 |93.5 |93.3 |88.9 |70.9 |\n",
      "| centerface |91.8 |94.2 |93.6 |87.7 |68.1 |\n",
      "| yunet |89.5 |94.1 |91.5 |87.1 |69.1 |\n",
      "| yolov8 |92.2 |94.2 |93.5 |90.6 |68.1 |\n",
      "\n",
      "---------------------------\n",
      "Performance Matrix for cosine\n",
      "\n",
      "| | Facenet |VGG-Face |ArcFace |GhostFaceNet |OpenFace |\n",
      "| --- |  --- | --- | --- | --- | --- |\n",
      "| retinaface |92.3 |93.5 |93.3 |88.9 |70.9 |\n",
      "| centerface |91.8 |94.2 |93.6 |87.7 |67.8 |\n",
      "| yunet |89.5 |94.1 |91.5 |87.1 |69.1 |\n",
      "| yolov8 |92.2 |94.2 |93.5 |90.6 |68.1 |\n",
      "\n",
      "---------------------------\n"
     ]
    }
   ],
   "execution_count": 9
  },
  {
   "cell_type": "markdown",
   "id": "1bdf64a3",
   "metadata": {},
   "source": [
    "# facial recognition model's best scores"
   ]
  },
  {
   "cell_type": "code",
   "id": "0cb1f232",
   "metadata": {
    "ExecuteTime": {
     "end_time": "2025-05-16T01:33:41.756131Z",
     "start_time": "2025-05-16T01:33:41.725390Z"
    }
   },
   "source": [
    "df = pd.DataFrame()\n",
    "\n",
    "for distance_metric in distance_metrics:\n",
    "    tmp_df = (\n",
    "        pd.read_csv(f\"results/pivot_{distance_metric}.csv\")\n",
    "        .rename(columns = {'Unnamed: 0': 'detector'})\n",
    "        .set_index('detector')\n",
    "    )\n",
    "    df = pd.concat([df, tmp_df])\n",
    "\n",
    "pivot_df = pd.DataFrame(df.max(), columns = [\"best_accuracy_score\"])\n",
    "\n",
    "# add human comparison\n",
    "pivot_df.loc[\"Human-beings\"] = 97.5\n",
    "\n",
    "pivot_df = pivot_df.sort_values(by = [\"best_accuracy_score\"], ascending = False)\n",
    "pivot_df"
   ],
   "outputs": [
    {
     "data": {
      "text/plain": [
       "              best_accuracy_score\n",
       "Human-beings                 97.5\n",
       "VGG-Face                     94.2\n",
       "ArcFace                      93.6\n",
       "Facenet                      92.3\n",
       "GhostFaceNet                 90.6\n",
       "OpenFace                     70.9"
      ],
      "text/html": [
       "<div>\n",
       "<style scoped>\n",
       "    .dataframe tbody tr th:only-of-type {\n",
       "        vertical-align: middle;\n",
       "    }\n",
       "\n",
       "    .dataframe tbody tr th {\n",
       "        vertical-align: top;\n",
       "    }\n",
       "\n",
       "    .dataframe thead th {\n",
       "        text-align: right;\n",
       "    }\n",
       "</style>\n",
       "<table border=\"1\" class=\"dataframe\">\n",
       "  <thead>\n",
       "    <tr style=\"text-align: right;\">\n",
       "      <th></th>\n",
       "      <th>best_accuracy_score</th>\n",
       "    </tr>\n",
       "  </thead>\n",
       "  <tbody>\n",
       "    <tr>\n",
       "      <th>Human-beings</th>\n",
       "      <td>97.5</td>\n",
       "    </tr>\n",
       "    <tr>\n",
       "      <th>VGG-Face</th>\n",
       "      <td>94.2</td>\n",
       "    </tr>\n",
       "    <tr>\n",
       "      <th>ArcFace</th>\n",
       "      <td>93.6</td>\n",
       "    </tr>\n",
       "    <tr>\n",
       "      <th>Facenet</th>\n",
       "      <td>92.3</td>\n",
       "    </tr>\n",
       "    <tr>\n",
       "      <th>GhostFaceNet</th>\n",
       "      <td>90.6</td>\n",
       "    </tr>\n",
       "    <tr>\n",
       "      <th>OpenFace</th>\n",
       "      <td>70.9</td>\n",
       "    </tr>\n",
       "  </tbody>\n",
       "</table>\n",
       "</div>"
      ]
     },
     "execution_count": 16,
     "metadata": {},
     "output_type": "execute_result"
    }
   ],
   "execution_count": 16
  },
  {
   "cell_type": "markdown",
   "id": "b81ebe92",
   "metadata": {},
   "source": [
    "# ROC Curves"
   ]
  },
  {
   "cell_type": "code",
   "id": "bcb4db0a",
   "metadata": {
    "ExecuteTime": {
     "end_time": "2025-05-16T01:37:14.040045Z",
     "start_time": "2025-05-16T01:37:14.032145Z"
    }
   },
   "source": [
    "def plot_roc(model_name, detector_backend, distance_metric, align):\n",
    "    alignment_text = \"aligned\"\n",
    "\n",
    "    df = pd.read_csv(f\"outputs/test/{model_name}_{detector_backend}_{distance_metric}_{alignment_text}.csv\")\n",
    "    \n",
    "    #normalize\n",
    "    df[\"distances_normalized\"] = df[\"distances\"] / df[\"distances\"].max()\n",
    "    df[\"actuals_normalized\"] = 0\n",
    "    idx = df[df[\"actuals\"] == False].index\n",
    "    df.loc[idx, \"actuals_normalized\"] = 1\n",
    "    \n",
    "    y_actual = df[\"actuals_normalized\"].values.tolist()\n",
    "    y_pred_proba = df[\"distances_normalized\"].values.tolist()\n",
    "    \n",
    "    fpr, tpr, _ = metrics.roc_curve(y_actual, y_pred_proba)\n",
    "    auc = metrics.roc_auc_score(y_actual, y_pred_proba)\n",
    "    auc = round(auc, 4)\n",
    "\n",
    "    # best accuracy score\n",
    "    result_path = f\"results/pivot_{distance_metric}.csv\"\n",
    "    result_df = pd.read_csv(result_path)\n",
    "    acc = result_df[result_df[\"Unnamed: 0\"] == detector_backend][model_name].values[0]\n",
    "\n",
    "    label = f\"{model_name}_{detector_backend}_{distance_metric}_{alignment_text} (acc: {acc}, auc: {auc})\"\n",
    "\n",
    "    return acc, auc, fpr, tpr, label"
   ],
   "outputs": [],
   "execution_count": 20
  },
  {
   "cell_type": "code",
   "id": "84b3d5b5",
   "metadata": {
    "scrolled": false,
    "ExecuteTime": {
     "end_time": "2025-05-16T01:37:16.284026Z",
     "start_time": "2025-05-16T01:37:15.291569Z"
    }
   },
   "source": [
    "# to show all models in same graph\n",
    "plt.figure(figsize=(17, 8))\n",
    "\n",
    "for model_name in models:\n",
    "    # to show graphs model by model\n",
    "    # plt.figure(figsize=(17, 8))\n",
    "    accs = []\n",
    "    aucs = []\n",
    "    fprs = []\n",
    "    tprs = []\n",
    "    labels = []\n",
    "    for distance_metric in distance_metrics:\n",
    "        # for detector_backend in robust_face_detectors:\n",
    "        for detector_backend in detectors:\n",
    "            acc, auc, fpr, tpr, label = plot_roc(model_name, detector_backend, distance_metric, True)\n",
    "            accs.append(acc)\n",
    "            aucs.append(auc)\n",
    "            fprs.append(fpr)\n",
    "            tprs.append(tpr)\n",
    "            labels.append(label)\n",
    "    # ---------------------------------\n",
    "    #sort by auc\n",
    "    df = pd.DataFrame({\"acc\": accs, \"auc\": aucs, \"fpr\": fprs, \"tpr\": tprs, \"label\": labels})\n",
    "    # df = df.sort_values(by = [\"auc\"], ascending = False).reset_index()\n",
    "    df = df.sort_values(by = [\"acc\"], ascending = False).reset_index()\n",
    "    \n",
    "    for index, instance in df.iterrows():\n",
    "        fpr = instance[\"fpr\"]\n",
    "        tpr = instance[\"tpr\"]\n",
    "        auc = instance[\"auc\"]\n",
    "        acc = instance[\"acc\"]\n",
    "        label = instance[\"label\"]\n",
    "        \n",
    "        plt.plot(fpr, tpr, label=label)\n",
    "        plt.ylabel(\"True Positive Rate\")\n",
    "        plt.xlabel(\"False Positive Rate\")\n",
    "        plt.legend(loc=\"lower center\", ncol=2)\n",
    "        # normally this should be [0, 1] but that scale makes graphs not legible\n",
    "        # plt.xlim([0, 1])\n",
    "        plt.xlim([0, 0.3])\n",
    "\n",
    "        # to show the best auc value\n",
    "        break\n",
    "    \n",
    "    # to show graphs model by model\n",
    "    # plt.show()\n",
    "    # print(\"----------------\")\n",
    "\n",
    "# to show all models in same graph\n",
    "plt.show()"
   ],
   "outputs": [
    {
     "data": {
      "text/plain": [
       "<Figure size 1700x800 with 1 Axes>"
      ],
      "image/png": "[encoded data removed]"
     },
     "metadata": {},
     "output_type": "display_data"
    }
   ],
   "execution_count": 21
  },
  {
   "cell_type": "code",
   "id": "661c5236",
   "metadata": {
    "ExecuteTime": {
     "end_time": "2025-05-16T01:37:49.406102Z",
     "start_time": "2025-05-16T01:37:49.363521Z"
    }
   },
   "source": "df",
   "outputs": [
    {
     "data": {
      "text/plain": [
       "    index   acc     auc                                                fpr  \\\n",
       "0       0  70.9  0.7668  [0.0, 0.0, 0.0, 0.002, 0.002, 0.004, 0.004, 0....   \n",
       "1       4  70.9  0.7668  [0.0, 0.0, 0.0, 0.002, 0.002, 0.004, 0.004, 0....   \n",
       "2       8  70.9  0.7668  [0.0, 0.0, 0.0, 0.002, 0.002, 0.004, 0.004, 0....   \n",
       "3       2  69.1  0.7459  [0.0, 0.0, 0.0, 0.002, 0.002, 0.004, 0.004, 0....   \n",
       "4      10  69.1  0.7459  [0.0, 0.0, 0.0, 0.002, 0.002, 0.004, 0.004, 0....   \n",
       "5       6  69.1  0.7459  [0.0, 0.0, 0.0, 0.002, 0.002, 0.004, 0.004, 0....   \n",
       "6       3  68.1  0.7422  [0.0, 0.0, 0.0, 0.002, 0.002, 0.004, 0.004, 0....   \n",
       "7       1  68.1  0.7391  [0.0, 0.0, 0.0, 0.004, 0.004, 0.008, 0.008, 0....   \n",
       "8       7  68.1  0.7422  [0.0, 0.0, 0.0, 0.002, 0.002, 0.004, 0.004, 0....   \n",
       "9       5  68.1  0.7391  [0.0, 0.0, 0.0, 0.004, 0.004, 0.008, 0.008, 0....   \n",
       "10     11  68.1  0.7422  [0.0, 0.0, 0.0, 0.002, 0.002, 0.004, 0.004, 0....   \n",
       "11      9  67.8  0.7391  [0.0, 0.0, 0.0, 0.004, 0.004, 0.008, 0.008, 0....   \n",
       "\n",
       "                                                  tpr  \\\n",
       "0   [0.0, 0.002, 0.016, 0.016, 0.066, 0.066, 0.092...   \n",
       "1   [0.0, 0.002, 0.016, 0.016, 0.066, 0.066, 0.092...   \n",
       "2   [0.0, 0.002, 0.016, 0.016, 0.066, 0.066, 0.092...   \n",
       "3   [0.0, 0.002, 0.012, 0.012, 0.014, 0.014, 0.016...   \n",
       "4   [0.0, 0.002, 0.012, 0.012, 0.014, 0.014, 0.016...   \n",
       "5   [0.0, 0.002, 0.012, 0.012, 0.014, 0.014, 0.016...   \n",
       "6   [0.0, 0.002, 0.004, 0.004, 0.026, 0.026, 0.038...   \n",
       "7   [0.0, 0.002, 0.012, 0.012, 0.04, 0.04, 0.054, ...   \n",
       "8   [0.0, 0.002, 0.004, 0.004, 0.026, 0.026, 0.038...   \n",
       "9   [0.0, 0.002, 0.012, 0.012, 0.04, 0.04, 0.054, ...   \n",
       "10  [0.0, 0.002, 0.004, 0.004, 0.026, 0.026, 0.038...   \n",
       "11  [0.0, 0.002, 0.012, 0.012, 0.04, 0.04, 0.054, ...   \n",
       "\n",
       "                                                label  \n",
       "0   OpenFace_retinaface_euclidean_aligned (acc: 70...  \n",
       "1   OpenFace_retinaface_euclidean_l2_aligned (acc:...  \n",
       "2   OpenFace_retinaface_cosine_aligned (acc: 70.9,...  \n",
       "3   OpenFace_yunet_euclidean_aligned (acc: 69.1, a...  \n",
       "4   OpenFace_yunet_cosine_aligned (acc: 69.1, auc:...  \n",
       "5   OpenFace_yunet_euclidean_l2_aligned (acc: 69.1...  \n",
       "6   OpenFace_yolov8_euclidean_aligned (acc: 68.1, ...  \n",
       "7   OpenFace_centerface_euclidean_aligned (acc: 68...  \n",
       "8   OpenFace_yolov8_euclidean_l2_aligned (acc: 68....  \n",
       "9   OpenFace_centerface_euclidean_l2_aligned (acc:...  \n",
       "10  OpenFace_yolov8_cosine_aligned (acc: 68.1, auc...  \n",
       "11  OpenFace_centerface_cosine_aligned (acc: 67.8,...  "
      ],
      "text/html": [
       "<div>\n",
       "<style scoped>\n",
       "    .dataframe tbody tr th:only-of-type {\n",
       "        vertical-align: middle;\n",
       "    }\n",
       "\n",
       "    .dataframe tbody tr th {\n",
       "        vertical-align: top;\n",
       "    }\n",
       "\n",
       "    .dataframe thead th {\n",
       "        text-align: right;\n",
       "    }\n",
       "</style>\n",
       "<table border=\"1\" class=\"dataframe\">\n",
       "  <thead>\n",
       "    <tr style=\"text-align: right;\">\n",
       "      <th></th>\n",
       "      <th>index</th>\n",
       "      <th>acc</th>\n",
       "      <th>auc</th>\n",
       "      <th>fpr</th>\n",
       "      <th>tpr</th>\n",
       "      <th>label</th>\n",
       "    </tr>\n",
       "  </thead>\n",
       "  <tbody>\n",
       "    <tr>\n",
       "      <th>0</th>\n",
       "      <td>0</td>\n",
       "      <td>70.9</td>\n",
       "      <td>0.7668</td>\n",
       "      <td>[0.0, 0.0, 0.0, 0.002, 0.002, 0.004, 0.004, 0....</td>\n",
       "      <td>[0.0, 0.002, 0.016, 0.016, 0.066, 0.066, 0.092...</td>\n",
       "      <td>OpenFace_retinaface_euclidean_aligned (acc: 70...</td>\n",
       "    </tr>\n",
       "    <tr>\n",
       "      <th>1</th>\n",
       "      <td>4</td>\n",
       "      <td>70.9</td>\n",
       "      <td>0.7668</td>\n",
       "      <td>[0.0, 0.0, 0.0, 0.002, 0.002, 0.004, 0.004, 0....</td>\n",
       "      <td>[0.0, 0.002, 0.016, 0.016, 0.066, 0.066, 0.092...</td>\n",
       "      <td>OpenFace_retinaface_euclidean_l2_aligned (acc:...</td>\n",
       "    </tr>\n",
       "    <tr>\n",
       "      <th>2</th>\n",
       "      <td>8</td>\n",
       "      <td>70.9</td>\n",
       "      <td>0.7668</td>\n",
       "      <td>[0.0, 0.0, 0.0, 0.002, 0.002, 0.004, 0.004, 0....</td>\n",
       "      <td>[0.0, 0.002, 0.016, 0.016, 0.066, 0.066, 0.092...</td>\n",
       "      <td>OpenFace_retinaface_cosine_aligned (acc: 70.9,...</td>\n",
       "    </tr>\n",
       "    <tr>\n",
       "      <th>3</th>\n",
       "      <td>2</td>\n",
       "      <td>69.1</td>\n",
       "      <td>0.7459</td>\n",
       "      <td>[0.0, 0.0, 0.0, 0.002, 0.002, 0.004, 0.004, 0....</td>\n",
       "      <td>[0.0, 0.002, 0.012, 0.012, 0.014, 0.014, 0.016...</td>\n",
       "      <td>OpenFace_yunet_euclidean_aligned (acc: 69.1, a...</td>\n",
       "    </tr>\n",
       "    <tr>\n",
       "      <th>4</th>\n",
       "      <td>10</td>\n",
       "      <td>69.1</td>\n",
       "      <td>0.7459</td>\n",
       "      <td>[0.0, 0.0, 0.0, 0.002, 0.002, 0.004, 0.004, 0....</td>\n",
       "      <td>[0.0, 0.002, 0.012, 0.012, 0.014, 0.014, 0.016...</td>\n",
       "      <td>OpenFace_yunet_cosine_aligned (acc: 69.1, auc:...</td>\n",
       "    </tr>\n",
       "    <tr>\n",
       "      <th>5</th>\n",
       "      <td>6</td>\n",
       "      <td>69.1</td>\n",
       "      <td>0.7459</td>\n",
       "      <td>[0.0, 0.0, 0.0, 0.002, 0.002, 0.004, 0.004, 0....</td>\n",
       "      <td>[0.0, 0.002, 0.012, 0.012, 0.014, 0.014, 0.016...</td>\n",
       "      <td>OpenFace_yunet_euclidean_l2_aligned (acc: 69.1...</td>\n",
       "    </tr>\n",
       "    <tr>\n",
       "      <th>6</th>\n",
       "      <td>3</td>\n",
       "      <td>68.1</td>\n",
       "      <td>0.7422</td>\n",
       "      <td>[0.0, 0.0, 0.0, 0.002, 0.002, 0.004, 0.004, 0....</td>\n",
       "      <td>[0.0, 0.002, 0.004, 0.004, 0.026, 0.026, 0.038...</td>\n",
       "      <td>OpenFace_yolov8_euclidean_aligned (acc: 68.1, ...</td>\n",
       "    </tr>\n",
       "    <tr>\n",
       "      <th>7</th>\n",
       "      <td>1</td>\n",
       "      <td>68.1</td>\n",
       "      <td>0.7391</td>\n",
       "      <td>[0.0, 0.0, 0.0, 0.004, 0.004, 0.008, 0.008, 0....</td>\n",
       "      <td>[0.0, 0.002, 0.012, 0.012, 0.04, 0.04, 0.054, ...</td>\n",
       "      <td>OpenFace_centerface_euclidean_aligned (acc: 68...</td>\n",
       "    </tr>\n",
       "    <tr>\n",
       "      <th>8</th>\n",
       "      <td>7</td>\n",
       "      <td>68.1</td>\n",
       "      <td>0.7422</td>\n",
       "      <td>[0.0, 0.0, 0.0, 0.002, 0.002, 0.004, 0.004, 0....</td>\n",
       "      <td>[0.0, 0.002, 0.004, 0.004, 0.026, 0.026, 0.038...</td>\n",
       "      <td>OpenFace_yolov8_euclidean_l2_aligned (acc: 68....</td>\n",
       "    </tr>\n",
       "    <tr>\n",
       "      <th>9</th>\n",
       "      <td>5</td>\n",
       "      <td>68.1</td>\n",
       "      <td>0.7391</td>\n",
       "      <td>[0.0, 0.0, 0.0, 0.004, 0.004, 0.008, 0.008, 0....</td>\n",
       "      <td>[0.0, 0.002, 0.012, 0.012, 0.04, 0.04, 0.054, ...</td>\n",
       "      <td>OpenFace_centerface_euclidean_l2_aligned (acc:...</td>\n",
       "    </tr>\n",
       "    <tr>\n",
       "      <th>10</th>\n",
       "      <td>11</td>\n",
       "      <td>68.1</td>\n",
       "      <td>0.7422</td>\n",
       "      <td>[0.0, 0.0, 0.0, 0.002, 0.002, 0.004, 0.004, 0....</td>\n",
       "      <td>[0.0, 0.002, 0.004, 0.004, 0.026, 0.026, 0.038...</td>\n",
       "      <td>OpenFace_yolov8_cosine_aligned (acc: 68.1, auc...</td>\n",
       "    </tr>\n",
       "    <tr>\n",
       "      <th>11</th>\n",
       "      <td>9</td>\n",
       "      <td>67.8</td>\n",
       "      <td>0.7391</td>\n",
       "      <td>[0.0, 0.0, 0.0, 0.004, 0.004, 0.008, 0.008, 0....</td>\n",
       "      <td>[0.0, 0.002, 0.012, 0.012, 0.04, 0.04, 0.054, ...</td>\n",
       "      <td>OpenFace_centerface_cosine_aligned (acc: 67.8,...</td>\n",
       "    </tr>\n",
       "  </tbody>\n",
       "</table>\n",
       "</div>"
      ]
     },
     "execution_count": 22,
     "metadata": {},
     "output_type": "execute_result"
    }
   ],
   "execution_count": 22
  }
 ],
 "metadata": {
  "kernelspec": {
   "display_name": "Python 3 (ipykernel)",
   "language": "python",
   "name": "python3"
  },
  "language_info": {
   "codemirror_mode": {
    "name": "ipython",
    "version": 3
   },
   "file_extension": ".py",
   "mimetype": "text/x-python",
   "name": "python",
   "nbconvert_exporter": "python",
   "pygments_lexer": "ipython3",
   "version": "3.9.16"
  }
 },
 "nbformat": 4,
 "nbformat_minor": 5
}
