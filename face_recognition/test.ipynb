{
 "cells": [
  {
   "cell_type": "code",
   "metadata": {
    "ExecuteTime": {
     "end_time": "2025-05-16T19:20:56.579364Z",
     "start_time": "2025-05-16T19:20:55.379348Z"
    }
   },
   "source": [
    "import pandas as pd \n",
    "\n",
    "timings = pd.read_csv(\"timings.csv\")"
   ],
   "outputs": [],
   "execution_count": 1
  },
  {
   "cell_type": "code",
   "metadata": {
    "ExecuteTime": {
     "end_time": "2025-05-16T19:20:57.041005Z",
     "start_time": "2025-05-16T19:20:57.022996Z"
    }
   },
   "source": [
    "pattern = r'^([^_]+)_([^_]+)_(.+?)_aligned$'\n",
    "\n",
    "timings[['Model', 'Detector', 'Metric']] = timings['task'].str.extract(pattern)\n",
    "\n",
    "timings = timings.drop(columns=['task'])"
   ],
   "outputs": [],
   "execution_count": 2
  },
  {
   "cell_type": "code",
   "metadata": {
    "ExecuteTime": {
     "end_time": "2025-05-16T19:20:58.509872Z",
     "start_time": "2025-05-16T19:20:58.489368Z"
    }
   },
   "source": [
    "cols = [col for col in timings.columns if col != 'time_taken_seconds']\n",
    "\n",
    "# Append the time column at the end\n",
    "new_order = cols + ['time_taken_seconds']\n",
    "\n",
    "# Reorder the DataFrame columns\n",
    "timings = timings[new_order]\n",
    "\n",
    "timings.head()"
   ],
   "outputs": [
    {
     "data": {
      "text/plain": [
       "     Model    Detector        Metric  time_taken_seconds\n",
       "0  Facenet  retinaface     euclidean          730.283190\n",
       "1  Facenet  retinaface  euclidean_l2          714.753853\n",
       "2  Facenet  retinaface        cosine          721.540456\n",
       "3  Facenet  centerface     euclidean          535.529412\n",
       "4  Facenet  centerface  euclidean_l2          533.992078"
      ],
      "text/html": [
       "<div>\n",
       "<style scoped>\n",
       "    .dataframe tbody tr th:only-of-type {\n",
       "        vertical-align: middle;\n",
       "    }\n",
       "\n",
       "    .dataframe tbody tr th {\n",
       "        vertical-align: top;\n",
       "    }\n",
       "\n",
       "    .dataframe thead th {\n",
       "        text-align: right;\n",
       "    }\n",
       "</style>\n",
       "<table border=\"1\" class=\"dataframe\">\n",
       "  <thead>\n",
       "    <tr style=\"text-align: right;\">\n",
       "      <th></th>\n",
       "      <th>Model</th>\n",
       "      <th>Detector</th>\n",
       "      <th>Metric</th>\n",
       "      <th>time_taken_seconds</th>\n",
       "    </tr>\n",
       "  </thead>\n",
       "  <tbody>\n",
       "    <tr>\n",
       "      <th>0</th>\n",
       "      <td>Facenet</td>\n",
       "      <td>retinaface</td>\n",
       "      <td>euclidean</td>\n",
       "      <td>730.283190</td>\n",
       "    </tr>\n",
       "    <tr>\n",
       "      <th>1</th>\n",
       "      <td>Facenet</td>\n",
       "      <td>retinaface</td>\n",
       "      <td>euclidean_l2</td>\n",
       "      <td>714.753853</td>\n",
       "    </tr>\n",
       "    <tr>\n",
       "      <th>2</th>\n",
       "      <td>Facenet</td>\n",
       "      <td>retinaface</td>\n",
       "      <td>cosine</td>\n",
       "      <td>721.540456</td>\n",
       "    </tr>\n",
       "    <tr>\n",
       "      <th>3</th>\n",
       "      <td>Facenet</td>\n",
       "      <td>centerface</td>\n",
       "      <td>euclidean</td>\n",
       "      <td>535.529412</td>\n",
       "    </tr>\n",
       "    <tr>\n",
       "      <th>4</th>\n",
       "      <td>Facenet</td>\n",
       "      <td>centerface</td>\n",
       "      <td>euclidean_l2</td>\n",
       "      <td>533.992078</td>\n",
       "    </tr>\n",
       "  </tbody>\n",
       "</table>\n",
       "</div>"
      ]
     },
     "execution_count": 3,
     "metadata": {},
     "output_type": "execute_result"
    }
   ],
   "execution_count": 3
  },
  {
   "cell_type": "code",
   "metadata": {
    "ExecuteTime": {
     "end_time": "2025-05-16T19:21:59.061718Z",
     "start_time": "2025-05-16T19:21:59.048194Z"
    }
   },
   "source": [
    "model_stats = timings.groupby('Model')['time_taken_seconds'].agg(['mean']).sort_values('mean')\n",
    "model_stats"
   ],
   "outputs": [
    {
     "data": {
      "text/plain": [
       "                    mean\n",
       "Model                   \n",
       "VGG-Face      140.240969\n",
       "OpenFace      284.824216\n",
       "ArcFace       294.179761\n",
       "GhostFaceNet  503.394115\n",
       "Facenet       560.482647"
      ],
      "text/html": [
       "<div>\n",
       "<style scoped>\n",
       "    .dataframe tbody tr th:only-of-type {\n",
       "        vertical-align: middle;\n",
       "    }\n",
       "\n",
       "    .dataframe tbody tr th {\n",
       "        vertical-align: top;\n",
       "    }\n",
       "\n",
       "    .dataframe thead th {\n",
       "        text-align: right;\n",
       "    }\n",
       "</style>\n",
       "<table border=\"1\" class=\"dataframe\">\n",
       "  <thead>\n",
       "    <tr style=\"text-align: right;\">\n",
       "      <th></th>\n",
       "      <th>mean</th>\n",
       "    </tr>\n",
       "    <tr>\n",
       "      <th>Model</th>\n",
       "      <th></th>\n",
       "    </tr>\n",
       "  </thead>\n",
       "  <tbody>\n",
       "    <tr>\n",
       "      <th>VGG-Face</th>\n",
       "      <td>140.240969</td>\n",
       "    </tr>\n",
       "    <tr>\n",
       "      <th>OpenFace</th>\n",
       "      <td>284.824216</td>\n",
       "    </tr>\n",
       "    <tr>\n",
       "      <th>ArcFace</th>\n",
       "      <td>294.179761</td>\n",
       "    </tr>\n",
       "    <tr>\n",
       "      <th>GhostFaceNet</th>\n",
       "      <td>503.394115</td>\n",
       "    </tr>\n",
       "    <tr>\n",
       "      <th>Facenet</th>\n",
       "      <td>560.482647</td>\n",
       "    </tr>\n",
       "  </tbody>\n",
       "</table>\n",
       "</div>"
      ]
     },
     "execution_count": 7,
     "metadata": {},
     "output_type": "execute_result"
    }
   ],
   "execution_count": 7
  },
  {
   "cell_type": "code",
   "metadata": {
    "ExecuteTime": {
     "end_time": "2025-05-16T19:22:00.793469Z",
     "start_time": "2025-05-16T19:22:00.764276Z"
    }
   },
   "source": [
    "detector_stats = timings.groupby('Detector')['time_taken_seconds'].agg(['mean']).sort_values('mean')\n",
    "detector_stats"
   ],
   "outputs": [
    {
     "data": {
      "text/plain": [
       "                  mean\n",
       "Detector              \n",
       "yunet       247.020549\n",
       "yolov8      326.836540\n",
       "centerface  365.735489\n",
       "retinaface  486.904788"
      ],
      "text/html": [
       "<div>\n",
       "<style scoped>\n",
       "    .dataframe tbody tr th:only-of-type {\n",
       "        vertical-align: middle;\n",
       "    }\n",
       "\n",
       "    .dataframe tbody tr th {\n",
       "        vertical-align: top;\n",
       "    }\n",
       "\n",
       "    .dataframe thead th {\n",
       "        text-align: right;\n",
       "    }\n",
       "</style>\n",
       "<table border=\"1\" class=\"dataframe\">\n",
       "  <thead>\n",
       "    <tr style=\"text-align: right;\">\n",
       "      <th></th>\n",
       "      <th>mean</th>\n",
       "    </tr>\n",
       "    <tr>\n",
       "      <th>Detector</th>\n",
       "      <th></th>\n",
       "    </tr>\n",
       "  </thead>\n",
       "  <tbody>\n",
       "    <tr>\n",
       "      <th>yunet</th>\n",
       "      <td>247.020549</td>\n",
       "    </tr>\n",
       "    <tr>\n",
       "      <th>yolov8</th>\n",
       "      <td>326.836540</td>\n",
       "    </tr>\n",
       "    <tr>\n",
       "      <th>centerface</th>\n",
       "      <td>365.735489</td>\n",
       "    </tr>\n",
       "    <tr>\n",
       "      <th>retinaface</th>\n",
       "      <td>486.904788</td>\n",
       "    </tr>\n",
       "  </tbody>\n",
       "</table>\n",
       "</div>"
      ]
     },
     "execution_count": 8,
     "metadata": {},
     "output_type": "execute_result"
    }
   ],
   "execution_count": 8
  },
  {
   "cell_type": "code",
   "metadata": {
    "ExecuteTime": {
     "end_time": "2025-05-16T19:22:05.939109Z",
     "start_time": "2025-05-16T19:22:05.925105Z"
    }
   },
   "source": [
    "metric_stats = timings.groupby('Metric')['time_taken_seconds'].agg(['mean']).sort_values('mean')\n",
    "metric_stats"
   ],
   "outputs": [
    {
     "data": {
      "text/plain": [
       "                    mean\n",
       "Metric                  \n",
       "euclidean_l2  355.718804\n",
       "cosine        355.999224\n",
       "euclidean     358.154997"
      ],
      "text/html": [
       "<div>\n",
       "<style scoped>\n",
       "    .dataframe tbody tr th:only-of-type {\n",
       "        vertical-align: middle;\n",
       "    }\n",
       "\n",
       "    .dataframe tbody tr th {\n",
       "        vertical-align: top;\n",
       "    }\n",
       "\n",
       "    .dataframe thead th {\n",
       "        text-align: right;\n",
       "    }\n",
       "</style>\n",
       "<table border=\"1\" class=\"dataframe\">\n",
       "  <thead>\n",
       "    <tr style=\"text-align: right;\">\n",
       "      <th></th>\n",
       "      <th>mean</th>\n",
       "    </tr>\n",
       "    <tr>\n",
       "      <th>Metric</th>\n",
       "      <th></th>\n",
       "    </tr>\n",
       "  </thead>\n",
       "  <tbody>\n",
       "    <tr>\n",
       "      <th>euclidean_l2</th>\n",
       "      <td>355.718804</td>\n",
       "    </tr>\n",
       "    <tr>\n",
       "      <th>cosine</th>\n",
       "      <td>355.999224</td>\n",
       "    </tr>\n",
       "    <tr>\n",
       "      <th>euclidean</th>\n",
       "      <td>358.154997</td>\n",
       "    </tr>\n",
       "  </tbody>\n",
       "</table>\n",
       "</div>"
      ]
     },
     "execution_count": 9,
     "metadata": {},
     "output_type": "execute_result"
    }
   ],
   "execution_count": 9
  }
 ],
 "metadata": {
  "kernelspec": {
   "display_name": "base",
   "language": "python",
   "name": "python3"
  },
  "language_info": {
   "codemirror_mode": {
    "name": "ipython",
    "version": 3
   },
   "file_extension": ".py",
   "mimetype": "text/x-python",
   "name": "python",
   "nbconvert_exporter": "python",
   "pygments_lexer": "ipython3",
   "version": "3.12.7"
  }
 },
 "nbformat": 4,
 "nbformat_minor": 2
}
