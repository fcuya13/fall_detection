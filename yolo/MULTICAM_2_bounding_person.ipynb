{
 "cells": [
  {
   "metadata": {
    "ExecuteTime": {
     "end_time": "2025-04-28T16:11:40.775573Z",
     "start_time": "2025-04-28T16:11:33.454405Z"
    }
   },
   "cell_type": "code",
   "source": [
    "import cv2\n",
    "import numpy as np\n",
    "import pandas as pd\n",
    "from ultralytics import YOLO\n",
    "import os\n",
    "import torch"
   ],
   "id": "60ac27703c15bb5e",
   "execution_count": 1,
   "outputs": []
  },
  {
   "cell_type": "code",
   "id": "initial_id",
   "metadata": {
    "collapsed": true,
    "ExecuteTime": {
     "end_time": "2025-04-28T16:11:40.909Z",
     "start_time": "2025-04-28T16:11:40.777609Z"
    }
   },
   "source": "model = YOLO('yolo11s.pt')",
   "execution_count": 2,
   "outputs": []
  },
  {
   "metadata": {
    "ExecuteTime": {
     "end_time": "2025-04-28T16:11:40.921328Z",
     "start_time": "2025-04-28T16:11:40.910361Z"
    }
   },
   "cell_type": "code",
   "source": [
    "# Carpeta de tus frames\n",
    "def generate_bbox(directory:str):\n",
    "    fall_dc = directory + \"/Fall\"\n",
    "    adl_dc = directory + \"/Non_Fall\"\n",
    "    \n",
    "    fall_view = directory + \"/Fall_View\"\n",
    "    adl_view = directory + \"/Non_Fall_View\"\n",
    "    \n",
    "    output_folder_fall = os.path.join(directory, 'Fall_label')\n",
    "    output_folder_adl = os.path.join(directory, 'Non_Fall_label')\n",
    "    \n",
    "    # Crear carpeta de labels si no existe\n",
    "    os.makedirs(output_folder_fall, exist_ok=True)\n",
    "    os.makedirs(output_folder_adl, exist_ok=True)\n",
    "    os.makedirs(fall_view, exist_ok=True)\n",
    "    os.makedirs(adl_view, exist_ok=True)\n",
    "\n",
    "    both_directories = [(fall_dc, output_folder_fall, fall_view, 1), (adl_dc, output_folder_adl, adl_view, 0)]\n",
    "    \n",
    "    for directory in both_directories: \n",
    "        label = directory[3]\n",
    "        for img_file in os.listdir(directory[0]):\n",
    "            if img_file.endswith(('.jpg', '.png', '.jpeg')):\n",
    "                img_path = os.path.join(directory[0], img_file)\n",
    "                img = cv2.imread(img_path)\n",
    "                if img is None:\n",
    "                    print(f\"Error leyendo {img_path}\")\n",
    "                    continue\n",
    "                img_height, img_width = img.shape[:2]\n",
    "                results = model.predict(img, classes=[0], max_det=1, conf=0.4, device=0)\n",
    "    \n",
    "                # Tomamos las predicciones\n",
    "                if len(results)>0:\n",
    "                    for r in results:\n",
    "                        if r.boxes.xywh is not None and len(r.boxes.xywh) > 0:\n",
    "                            x,y,w,h = r.boxes.xywh[0]\n",
    "                            x_norm = float(x)/img_width\n",
    "                            y_norm = float(y)/img_height\n",
    "                            w_norm = float(w)/img_width\n",
    "                            h_norm = float(h)/img_height\n",
    "                \n",
    "                            x1 = int(x - w / 2)\n",
    "                            y1 = int(y - h / 2)\n",
    "                            x2 = int(x + w / 2)\n",
    "                            y2 = int(y + h / 2)\n",
    "                            # Crear archivo .txt\n",
    "                            label_file = os.path.join(directory[1], img_file.replace('.jpg', '.txt').replace('.png', '.txt'))\n",
    "                            with open(label_file, 'a') as f:\n",
    "                                f.write(f\"{str(label)} {x_norm:.6f} {y_norm:.6f} {w_norm:.6f} {h_norm:.6f}\\n\")\n",
    "                \n",
    "                            cv2.rectangle(img, (x1, y1), (x2, y2), color=(0, 255, 0), thickness=2)\n",
    "                img_view_name = os.path.join(directory[2], img_file)\n",
    "                cv2.imwrite(img_view_name, img)\n",
    "    print(\"Extraccion de bounding boxes terminada\")"
   ],
   "id": "5eba837c68d2fe6",
   "execution_count": 3,
   "outputs": []
  },
  {
   "metadata": {
    "ExecuteTime": {
     "end_time": "2025-04-28T16:23:55.404904Z",
     "start_time": "2025-04-28T16:11:40.922339Z"
    }
   },
   "cell_type": "code",
   "source": [
    "test_dic = ('dataset/Multiple_Cameras')\n",
    "generate_bbox(test_dic)"
   ],
   "id": "eea1b00338e8bfdd",
   "execution_count": 4,
   "outputs": []
  }
 ],
 "metadata": {
  "kernelspec": {
   "display_name": "Python 3",
   "language": "python",
   "name": "python3"
  },
  "language_info": {
   "codemirror_mode": {
    "name": "ipython",
    "version": 2
   },
   "file_extension": ".py",
   "mimetype": "text/x-python",
   "name": "python",
   "nbconvert_exporter": "python",
   "pygments_lexer": "ipython2",
   "version": "2.7.6"
  }
 },
 "nbformat": 4,
 "nbformat_minor": 5
}
