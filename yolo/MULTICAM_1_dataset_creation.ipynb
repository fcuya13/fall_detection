{
 "cells": [
  {
   "cell_type": "code",
   "id": "initial_id",
   "metadata": {
    "collapsed": true,
    "ExecuteTime": {
     "end_time": "2025-04-28T15:41:35.872141Z",
     "start_time": "2025-04-28T15:41:34.648189Z"
    }
   },
   "source": [
    "import pandas as pd\n",
    "import os\n",
    "import cv2"
   ],
   "outputs": [],
   "execution_count": 1
  },
  {
   "metadata": {
    "ExecuteTime": {
     "end_time": "2025-04-28T15:41:35.879191Z",
     "start_time": "2025-04-28T15:41:35.872141Z"
    }
   },
   "cell_type": "code",
   "source": "directory = \"C:/Users/bryan/OneDrive/Documentos/Tesis/Multiple_Cameras_Fall_Dataset\"",
   "id": "2b386ffb9045408e",
   "outputs": [],
   "execution_count": 2
  },
  {
   "metadata": {
    "ExecuteTime": {
     "end_time": "2025-04-28T19:42:45.751706Z",
     "start_time": "2025-04-28T19:42:45.745440Z"
    }
   },
   "cell_type": "code",
   "source": "os.makedirs('dataset/Multiple_Cameras', exist_ok=True)",
   "id": "af6d789b0e7295fc",
   "outputs": [],
   "execution_count": 9
  },
  {
   "metadata": {
    "ExecuteTime": {
     "end_time": "2025-04-28T15:41:35.895378Z",
     "start_time": "2025-04-28T15:41:35.881203Z"
    }
   },
   "cell_type": "code",
   "source": [
    "def extract_frames_from_videos(csv_path, videos_root, output_root):\n",
    "    # Cargar CSV\n",
    "    df = pd.read_csv(csv_path)\n",
    "\n",
    "    # Crear carpetas de salida\n",
    "    fall_dir = os.path.join(output_root, 'Fall')\n",
    "    adl_dir = os.path.join(output_root, 'Non_Fall')\n",
    "    os.makedirs(fall_dir, exist_ok=True)\n",
    "    os.makedirs(adl_dir, exist_ok=True)\n",
    "\n",
    "    for idx, row in df.iterrows():\n",
    "        vdo_info = {'chute': row['chute'], 'cam': row['cam'],\n",
    "                    'start': row['start'], 'end': row['end'], 'label': row['label']}\n",
    "\n",
    "        # Construir ruta al video\n",
    "        if vdo_info['chute'] < 10:\n",
    "            sub_dir = f'chute0{int(vdo_info[\"chute\"])}/cam{int(vdo_info[\"cam\"])}.avi'\n",
    "        else:\n",
    "            sub_dir = f'chute{int(vdo_info[\"chute\"])}/cam{int(vdo_info[\"cam\"])}.avi'\n",
    "\n",
    "        video_path = os.path.join(videos_root, sub_dir)\n",
    "\n",
    "        if not os.path.exists(video_path):\n",
    "            print(f\"Video no encontrado: {video_path}\")\n",
    "            continue\n",
    "\n",
    "        cap = cv2.VideoCapture(video_path)\n",
    "        frame_no = 1\n",
    "        ret, frame = cap.read()\n",
    "\n",
    "        # Extraer frames dentro del rango\n",
    "        while ret:\n",
    "            if vdo_info['start'] <= frame_no < vdo_info['end']:\n",
    "                # Guardar el frame\n",
    "                output_dir = fall_dir if vdo_info['label'] == 1 else adl_dir\n",
    "                frame_filename = f\"{int(vdo_info['chute']):02d}_{int(vdo_info['cam'])}_{frame_no}.jpg\"\n",
    "                frame_path = os.path.join(output_dir, frame_filename)\n",
    "                cv2.imwrite(frame_path, frame)\n",
    "\n",
    "            frame_no += 1\n",
    "            ret, frame = cap.read()\n",
    "\n",
    "        cap.release()\n",
    "\n",
    "    print(\"Extracción de frames completada ✅\")"
   ],
   "id": "fb4b48aa2120fb0",
   "outputs": [],
   "execution_count": 3
  },
  {
   "metadata": {
    "ExecuteTime": {
     "end_time": "2025-04-28T15:46:17.596668Z",
     "start_time": "2025-04-28T15:42:03.561140Z"
    }
   },
   "cell_type": "code",
   "source": [
    "csv_path = directory + '/data_tuple3.csv'\n",
    "videos_root =  directory + '/dataset'\n",
    "output_root = 'dataset/Multiple_Cameras/'\n",
    "\n",
    "extract_frames_from_videos(csv_path, videos_root, output_root)"
   ],
   "id": "2f51f9648bc943c1",
   "outputs": [
    {
     "name": "stdout",
     "output_type": "stream",
     "text": [
      "Video no encontrado: C:/Users/bryan/OneDrive/Documentos/Tesis/Multiple_Cameras_Fall_Dataset/dataset\\chute23/cam55.avi\n",
      "Extracción de frames completada ✅\n"
     ]
    }
   ],
   "execution_count": 4
  }
 ],
 "metadata": {
  "kernelspec": {
   "display_name": "Python 3",
   "language": "python",
   "name": "python3"
  },
  "language_info": {
   "codemirror_mode": {
    "name": "ipython",
    "version": 2
   },
   "file_extension": ".py",
   "mimetype": "text/x-python",
   "name": "python",
   "nbconvert_exporter": "python",
   "pygments_lexer": "ipython2",
   "version": "2.7.6"
  }
 },
 "nbformat": 4,
 "nbformat_minor": 5
}
