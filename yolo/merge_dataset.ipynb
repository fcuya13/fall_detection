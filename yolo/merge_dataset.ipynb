{
 "cells": [
  {
   "cell_type": "code",
   "id": "initial_id",
   "metadata": {
    "collapsed": true,
    "ExecuteTime": {
     "end_time": "2025-04-29T19:37:42.294886Z",
     "start_time": "2025-04-29T19:37:42.284066Z"
    }
   },
   "source": [
    "import os\n",
    "import shutil"
   ],
   "outputs": [],
   "execution_count": 8
  },
  {
   "metadata": {
    "ExecuteTime": {
     "end_time": "2025-04-29T19:38:18.515093Z",
     "start_time": "2025-04-29T19:38:18.498154Z"
    }
   },
   "cell_type": "code",
   "source": [
    "def merge_datasets(source_datasets, output_dir):\n",
    "    # Crear carpetas de salida\n",
    "    for split in ['train', 'valid', 'test']:\n",
    "        for subfolder in ['images', 'labels']:\n",
    "            os.makedirs(os.path.join(output_dir, split, subfolder), exist_ok=True)\n",
    "\n",
    "    for dataset_path in source_datasets:\n",
    "        dataset_name = dataset_path[1]\n",
    "        dataset_path = dataset_path[0]\n",
    "\n",
    "        for split in ['train', 'valid', 'test']:\n",
    "            img_src_dir = os.path.join(dataset_path, split, 'images')\n",
    "            lbl_src_dir = os.path.join(dataset_path, split, 'labels')\n",
    "\n",
    "            img_dst_dir = os.path.join(output_dir, split, 'images')\n",
    "            lbl_dst_dir = os.path.join(output_dir, split, 'labels')\n",
    "\n",
    "            if not os.path.exists(img_src_dir) or not os.path.exists(lbl_src_dir):\n",
    "                print(f\"❌ Saltando {dataset_name}/{split} (no encontrado)\")\n",
    "                continue\n",
    "\n",
    "            for filename in os.listdir(img_src_dir):\n",
    "                if filename.lower().endswith(('.jpg', '.jpeg', '.png')):\n",
    "                    name_no_ext = os.path.splitext(filename)[0]\n",
    "                    label_name = name_no_ext + '.txt'\n",
    "\n",
    "                    lbl_src = os.path.join(lbl_src_dir, label_name)\n",
    "                    if not os.path.exists(lbl_src):\n",
    "                        # Saltar si no tiene label\n",
    "                        continue\n",
    "\n",
    "                    img_src = os.path.join(img_src_dir, filename)\n",
    "\n",
    "                    new_img_name = f\"{dataset_name}_{filename}\"\n",
    "                    new_lbl_name = f\"{dataset_name}_{label_name}\"\n",
    "\n",
    "                    img_dst = os.path.join(img_dst_dir, new_img_name)\n",
    "                    lbl_dst = os.path.join(lbl_dst_dir, new_lbl_name)\n",
    "\n",
    "                    shutil.copy(img_src, img_dst)\n",
    "                    shutil.copy(lbl_src, lbl_dst)\n",
    "\n",
    "    print(\"✅ Merge completo: solo imágenes con label fueron copiadas.\")"
   ],
   "id": "1fc6a4f4642b46e9",
   "outputs": [],
   "execution_count": 9
  },
  {
   "metadata": {
    "ExecuteTime": {
     "end_time": "2025-04-29T19:45:13.042325Z",
     "start_time": "2025-04-29T19:38:25.599960Z"
    }
   },
   "cell_type": "code",
   "source": [
    "source_datasets = [\n",
    "    ('dataset/Multiple_Cameras/Multiple_Cameras_cleaned_dataset','Multiple_Cam'),\n",
    "    ('dataset/CAUCAFall/CAUCAFall_cleaned_dataset','CAUCAFall'),\n",
    "    ('dataset/UR-Fall','URFall')\n",
    "]\n",
    "\n",
    "output_dir = 'dataset/Merged_Dataset'\n",
    "\n",
    "merge_datasets(source_datasets, output_dir)"
   ],
   "id": "de7af624484f6c64",
   "outputs": [
    {
     "name": "stdout",
     "output_type": "stream",
     "text": [
      "✅ Merge completo: solo imágenes con label fueron copiadas.\n"
     ]
    }
   ],
   "execution_count": 10
  }
 ],
 "metadata": {
  "kernelspec": {
   "display_name": "Python 3",
   "language": "python",
   "name": "python3"
  },
  "language_info": {
   "codemirror_mode": {
    "name": "ipython",
    "version": 2
   },
   "file_extension": ".py",
   "mimetype": "text/x-python",
   "name": "python",
   "nbconvert_exporter": "python",
   "pygments_lexer": "ipython2",
   "version": "2.7.6"
  }
 },
 "nbformat": 4,
 "nbformat_minor": 5
}
