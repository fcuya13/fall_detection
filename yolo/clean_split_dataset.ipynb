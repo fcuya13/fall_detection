{
 "cells": [
  {
   "metadata": {
    "ExecuteTime": {
     "end_time": "2025-04-26T18:37:24.444828Z",
     "start_time": "2025-04-26T18:37:24.436640Z"
    }
   },
   "cell_type": "code",
   "source": [
    "import os\n",
    "import shutil\n",
    "import random"
   ],
   "id": "91ba7095ee26a65f",
   "outputs": [],
   "execution_count": 1
  },
  {
   "metadata": {
    "ExecuteTime": {
     "end_time": "2025-04-26T18:37:25.934081Z",
     "start_time": "2025-04-26T18:37:25.914265Z"
    }
   },
   "cell_type": "code",
   "source": [
    "def merge_folders(source_folders, target_folder):\n",
    "    os.makedirs(target_folder, exist_ok=True)\n",
    "\n",
    "    for folder in source_folders:\n",
    "        for file_name in os.listdir(folder):\n",
    "            source_path = os.path.join(folder, file_name)\n",
    "            target_path = os.path.join(target_folder, file_name)\n",
    "\n",
    "            # Copiar solo si es archivo\n",
    "            if os.path.isfile(source_path):\n",
    "                shutil.copy(source_path, target_path)\n",
    "    print(f\"Carpetas {source_folders} combinadas en {target_folder}\")"
   ],
   "id": "9a6db73be522f234",
   "outputs": [],
   "execution_count": 2
  },
  {
   "metadata": {
    "ExecuteTime": {
     "end_time": "2025-04-26T18:39:29.732335Z",
     "start_time": "2025-04-26T18:37:27.983312Z"
    }
   },
   "cell_type": "code",
   "source": [
    "# Carpetas\n",
    "fall_imgs = 'dataset/Fall'\n",
    "nofall_imgs = 'dataset/Non_Fall'\n",
    "fall_labels = 'dataset/Fall_label'\n",
    "nofall_labels = 'dataset/Non_Fall_label'\n",
    "\n",
    "# Carpeta destino\n",
    "merged_imgs = 'dataset/all_imgs'\n",
    "merged_labels = 'dataset/all_labels'\n",
    "\n",
    "# Unir\n",
    "merge_folders([fall_imgs, nofall_imgs], merged_imgs)\n",
    "merge_folders([fall_labels, nofall_labels], merged_labels)"
   ],
   "id": "6c6d5815000152e6",
   "outputs": [
    {
     "name": "stdout",
     "output_type": "stream",
     "text": [
      "Carpetas ['dataset/Fall', 'dataset/Non_Fall'] combinadas en dataset/all_imgs\n",
      "Carpetas ['dataset/Fall_label', 'dataset/Non_Fall_label'] combinadas en dataset/all_labels\n"
     ]
    }
   ],
   "execution_count": 3
  },
  {
   "cell_type": "code",
   "execution_count": null,
   "id": "initial_id",
   "metadata": {
    "collapsed": true
   },
   "outputs": [],
   "source": [
    "def split_dataset(images_dir, labels_dir, output_dir, train_ratio=0.8, val_ratio=0.12, test_ratio=0.08, seed=42):\n",
    "    # Crear carpetas de salida\n",
    "    for split in ['train', 'val', 'test']:\n",
    "        os.makedirs(os.path.join(output_dir, split, 'images'), exist_ok=True)\n",
    "        os.makedirs(os.path.join(output_dir, split, 'labels'), exist_ok=True)\n",
    "\n",
    "    # Listar imágenes que tengan su label\n",
    "    image_files = [f for f in os.listdir(images_dir) if f.endswith(('.jpg', '.png', '.jpeg'))]\n",
    "    paired_files = []\n",
    "\n",
    "    for img in image_files:\n",
    "        label_file = img.rsplit('.', 1)[0] + '.txt'\n",
    "        if os.path.exists(os.path.join(labels_dir, label_file)):\n",
    "            paired_files.append(img)\n",
    "\n",
    "    print(f\"Total de pares imagen+label encontrados: {len(paired_files)}\")\n",
    "\n",
    "    # Mezclar aleatoriamente\n",
    "    random.seed(seed)\n",
    "    random.shuffle(paired_files)\n",
    "\n",
    "    # Calcular tamaños\n",
    "    total = len(paired_files)\n",
    "    train_size = int(total * train_ratio)\n",
    "    val_size = int(total * val_ratio)\n",
    "\n",
    "    # Asignar splits\n",
    "    train_files = paired_files[:train_size]\n",
    "    val_files = paired_files[train_size:train_size + val_size]\n",
    "    test_files = paired_files[train_size + val_size:]\n",
    "\n",
    "    splits = [('train', train_files), ('val', val_files), ('test', test_files)]\n",
    "\n",
    "    # Copiar archivos\n",
    "    for split_name, split_files in splits:\n",
    "        for img_file in split_files:\n",
    "            label_file = img_file.rsplit('.', 1)[0] + '.txt'\n",
    "\n",
    "            shutil.copy(os.path.join(images_dir, img_file), os.path.join(output_dir, split_name, 'images', img_file))\n",
    "            shutil.copy(os.path.join(labels_dir, label_file), os.path.join(output_dir, split_name, 'labels', label_file))\n",
    "\n",
    "    print(\"Separación completada exitosamente.\")"
   ]
  },
  {
   "metadata": {},
   "cell_type": "code",
   "outputs": [],
   "execution_count": null,
   "source": [
    "images_dir = \"ruta/a/imagenes\"\n",
    "labels_dir = \"ruta/a/labels\"\n",
    "output_dir = \"ruta/a/guardar_split\"\n",
    "\n",
    "split_dataset(images_dir, labels_dir, output_dir)"
   ],
   "id": "dcea9e904527a7b9"
  }
 ],
 "metadata": {
  "kernelspec": {
   "display_name": "Python 3",
   "language": "python",
   "name": "python3"
  },
  "language_info": {
   "codemirror_mode": {
    "name": "ipython",
    "version": 2
   },
   "file_extension": ".py",
   "mimetype": "text/x-python",
   "name": "python",
   "nbconvert_exporter": "python",
   "pygments_lexer": "ipython2",
   "version": "2.7.6"
  }
 },
 "nbformat": 4,
 "nbformat_minor": 5
}
