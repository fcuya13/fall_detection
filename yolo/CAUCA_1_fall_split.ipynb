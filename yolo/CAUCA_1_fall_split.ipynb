{
 "cells": [
  {
   "cell_type": "code",
   "id": "initial_id",
   "metadata": {
    "collapsed": true,
    "ExecuteTime": {
     "end_time": "2025-04-28T21:11:21.622282Z",
     "start_time": "2025-04-28T21:11:21.615138Z"
    }
   },
   "source": [
    "import os\n",
    "import shutil"
   ],
   "outputs": [],
   "execution_count": 1
  },
  {
   "metadata": {
    "ExecuteTime": {
     "end_time": "2025-04-28T21:23:14.076483Z",
     "start_time": "2025-04-28T21:16:05.535962Z"
    }
   },
   "cell_type": "code",
   "source": [
    "# Carpetas\n",
    "source_dir = 'C:/Users/bryan/OneDrive/Documentos/Tesis/Dataset CAUCAFall/CAUCAFall'\n",
    "\n",
    "output_images_dir = 'dataset/CAUCAFall/all_imgs'\n",
    "output_labels_dir = 'dataset/CAUCAFall/all_labels'\n",
    "\n",
    "# Crear carpetas de destino\n",
    "os.makedirs(output_images_dir, exist_ok=True)\n",
    "os.makedirs(output_labels_dir, exist_ok=True)\n",
    "\n",
    "# Recorrer recursivamente\n",
    "for root, dirs, files in os.walk(source_dir):\n",
    "    for file in files:\n",
    "        if file.endswith('.png'):  # Solo imágenes\n",
    "            img_path = os.path.join(root, file)\n",
    "            label_path = os.path.splitext(img_path)[0] + '.txt'\n",
    "\n",
    "            # Verificar si existe el label\n",
    "            if os.path.exists(label_path):\n",
    "                # Copiar imagen\n",
    "                shutil.copy(img_path, os.path.join(output_images_dir, file))\n",
    "                # Copiar label\n",
    "                shutil.copy(label_path, os.path.join(output_labels_dir, os.path.basename(label_path)))\n",
    "            else:\n",
    "                print(f\"Imagen ignorada (sin label): {img_path}\")\n",
    "\n",
    "print(\"Separación de imágenes y labels completada exitosamente.\")"
   ],
   "id": "d2dc85b86b1727b9",
   "outputs": [
    {
     "name": "stdout",
     "output_type": "stream",
     "text": [
      "Imagen ignorada (sin label): C:/Users/bryan/OneDrive/Documentos/Tesis/Dataset CAUCAFall/CAUCAFall\\Subject.2\\Fall backwards\\cas200091 - copia.png\n",
      "Imagen ignorada (sin label): C:/Users/bryan/OneDrive/Documentos/Tesis/Dataset CAUCAFall/CAUCAFall\\Subject.5\\Kneel\\ars500236.png\n",
      "Imagen ignorada (sin label): C:/Users/bryan/OneDrive/Documentos/Tesis/Dataset CAUCAFall/CAUCAFall\\Subject.6\\Walk\\cams600260.png\n",
      "Imagen ignorada (sin label): C:/Users/bryan/OneDrive/Documentos/Tesis/Dataset CAUCAFall/CAUCAFall\\Subject.8\\Hop\\sals800096.png\n",
      "Imagen ignorada (sin label): C:/Users/bryan/OneDrive/Documentos/Tesis/Dataset CAUCAFall/CAUCAFall\\Subject.8\\Pick up object\\res800090.png\n",
      "Imagen ignorada (sin label): C:/Users/bryan/OneDrive/Documentos/Tesis/Dataset CAUCAFall/CAUCAFall\\Subject.9\\Walk\\cams900140.png\n",
      "Separación de imágenes y labels completada exitosamente.\n"
     ]
    }
   ],
   "execution_count": 3
  }
 ],
 "metadata": {
  "kernelspec": {
   "display_name": "Python 3",
   "language": "python",
   "name": "python3"
  },
  "language_info": {
   "codemirror_mode": {
    "name": "ipython",
    "version": 2
   },
   "file_extension": ".py",
   "mimetype": "text/x-python",
   "name": "python",
   "nbconvert_exporter": "python",
   "pygments_lexer": "ipython2",
   "version": "2.7.6"
  }
 },
 "nbformat": 4,
 "nbformat_minor": 5
}
