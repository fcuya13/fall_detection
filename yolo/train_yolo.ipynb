{
 "cells": [
  {
   "cell_type": "code",
   "execution_count": 1,
   "id": "initial_id",
   "metadata": {
    "collapsed": true
   },
   "source": [
    "from ultralytics import YOLO"
   ],
   "outputs": []
  },
  {
   "cell_type": "code",
   "execution_count": 4,
   "id": "07e9181c",
   "metadata": {},
   "source": [
    "from ultralytics import settings\n",
    "settings.update({\"datasets_dir\": \"C:\\\\Users\\\\Invitado\\\\Documents\\\\fall_detection\\\\yolo\"})\n",
    "print(settings)\n"
   ],
   "outputs": []
  },
  {
   "cell_type": "code",
   "execution_count": 7,
   "id": "a113d5722be06ccf",
   "metadata": {},
   "source": [
    "model = YOLO(\"yolo11n.pt\")\n",
    "\n",
    "results = model.train(data=\"C:\\\\Users\\\\Invitado\\\\Documents\\\\fall_detection\\\\yolo\\\\dataset\\\\data.yaml\", epochs=500, imgsz=640, device = 0, batch=0.85, cache=\"disk\")"
   ],
   "outputs": []
  }
 ],
 "metadata": {
  "kernelspec": {
   "display_name": ".venv",
   "language": "python",
   "name": "python3"
  },
  "language_info": {
   "codemirror_mode": {
    "name": "ipython",
    "version": 3
   },
   "file_extension": ".py",
   "mimetype": "text/x-python",
   "name": "python",
   "nbconvert_exporter": "python",
   "pygments_lexer": "ipython3",
   "version": "3.11.9"
  }
 },
 "nbformat": 4,
 "nbformat_minor": 5
}
