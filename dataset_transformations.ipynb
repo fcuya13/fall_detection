{
 "cells": [
  {
   "cell_type": "code",
   "id": "initial_id",
   "metadata": {
    "collapsed": true,
    "ExecuteTime": {
     "end_time": "2025-04-19T03:22:26.677303Z",
     "start_time": "2025-04-19T03:22:26.514655Z"
    }
   },
   "source": [
    "import cv2\n",
    "import os\n",
    "import numpy as np"
   ],
   "outputs": [],
   "execution_count": 1
  },
  {
   "metadata": {
    "ExecuteTime": {
     "end_time": "2025-04-19T03:22:28.199889Z",
     "start_time": "2025-04-19T03:22:28.182350Z"
    }
   },
   "cell_type": "code",
   "source": [
    "def array_to_mp4(array, output_file, fps=5):\n",
    "    num_frames, height, width, channels = array.shape\n",
    "    array = (array * 255).astype(np.uint8)\n",
    "    fourcc = cv2.VideoWriter_fourcc(*'mp4v')\n",
    "    video_writer = cv2.VideoWriter(output_file, fourcc, fps, (width, height))\n",
    "    for i in range(num_frames):\n",
    "        frame = array[i]\n",
    "        video_writer.write(frame)\n",
    "    video_writer.release()"
   ],
   "id": "fe73742341777387",
   "outputs": [],
   "execution_count": 2
  },
  {
   "metadata": {
    "ExecuteTime": {
     "end_time": "2025-04-19T03:31:01.145575Z",
     "start_time": "2025-04-19T03:31:01.129579Z"
    }
   },
   "cell_type": "code",
   "source": [
    "from natsort import natsorted  # Ordena los archivos naturalmente: 1, 2, 10 (no 1, 10, 2)\n",
    "\n",
    "def images_to_video(image_folder, output_path, fps=30):\n",
    "    images = [img for img in os.listdir(image_folder) if img.endswith(\".png\")]\n",
    "    images = natsorted(images)\n",
    "    if not images:\n",
    "        print(f\"No images found in {image_folder}\")\n",
    "        return\n",
    "\n",
    "    first_image_path = os.path.join(image_folder, images[0])\n",
    "    frame = cv2.imread(first_image_path)\n",
    "    height, width, layers = frame.shape\n",
    "\n",
    "    fourcc = cv2.VideoWriter_fourcc(*'mp4v')\n",
    "    video = cv2.VideoWriter(output_path, fourcc, fps, (width, height))\n",
    "\n",
    "    for image in images:\n",
    "        img_path = os.path.join(image_folder, image)\n",
    "        frame = cv2.imread(img_path)\n",
    "        if frame is not None:\n",
    "            video.write(frame)\n",
    "        else:\n",
    "            print(f\"Could not read {img_path}\")\n",
    "\n",
    "    video.release()\n",
    "    print(f\"Video saved to {output_path}\")"
   ],
   "id": "38ca7bcc76344d79",
   "outputs": [],
   "execution_count": 13
  },
  {
   "metadata": {
    "ExecuteTime": {
     "end_time": "2025-04-19T03:33:15.537934Z",
     "start_time": "2025-04-19T03:31:28.694539Z"
    }
   },
   "cell_type": "code",
   "source": [
    "adl_base_dir = 'data/URFD/ADL'\n",
    "adl_output_dir = 'data/URFD/ADL'\n",
    "\n",
    "fall_base_dir = 'data/URFD/Fall'\n",
    "fall_output_dir = 'data/URFD/Fall'\n",
    "os.makedirs(fall_output_dir, exist_ok=True)\n",
    "os.makedirs(adl_output_dir, exist_ok=True)\n",
    "\n",
    "# Convert fall videos\n",
    "for i in range(1,31):\n",
    "    folder_name = f\"Fall{str(i).zfill(2)}\"\n",
    "    image_folder = os.path.join(fall_base_dir, folder_name, \"Camera\")\n",
    "    output_path = os.path.join(fall_output_dir,folder_name,  f\"{folder_name}.mp4\")\n",
    "    images_to_video(image_folder, output_path)\n",
    "\n",
    "# Convert adl videos\n",
    "\n",
    "for i in range(1, 41):\n",
    "    folder_name = f\"NoFall{str(i).zfill(2)}\"\n",
    "    image_folder = os.path.join(adl_base_dir, folder_name, \"Camera\")\n",
    "    output_path = os.path.join(adl_output_dir, folder_name, f\"{folder_name}.mp4\")\n",
    "    images_to_video(image_folder, output_path)\n"
   ],
   "id": "7ef82c32c9e67a2",
   "outputs": [
    {
     "name": "stdout",
     "output_type": "stream",
     "text": [
      "Video saved to data/URFD/Fall\\Fall01\\Fall01.mp4\n",
      "Video saved to data/URFD/Fall\\Fall02\\Fall02.mp4\n",
      "Video saved to data/URFD/Fall\\Fall03\\Fall03.mp4\n",
      "Video saved to data/URFD/Fall\\Fall04\\Fall04.mp4\n",
      "Video saved to data/URFD/Fall\\Fall05\\Fall05.mp4\n",
      "Video saved to data/URFD/Fall\\Fall06\\Fall06.mp4\n",
      "Video saved to data/URFD/Fall\\Fall07\\Fall07.mp4\n",
      "Video saved to data/URFD/Fall\\Fall08\\Fall08.mp4\n",
      "Video saved to data/URFD/Fall\\Fall09\\Fall09.mp4\n",
      "Video saved to data/URFD/Fall\\Fall10\\Fall10.mp4\n",
      "Video saved to data/URFD/Fall\\Fall11\\Fall11.mp4\n",
      "Video saved to data/URFD/Fall\\Fall12\\Fall12.mp4\n",
      "Video saved to data/URFD/Fall\\Fall13\\Fall13.mp4\n",
      "Video saved to data/URFD/Fall\\Fall14\\Fall14.mp4\n",
      "Video saved to data/URFD/Fall\\Fall15\\Fall15.mp4\n",
      "Video saved to data/URFD/Fall\\Fall16\\Fall16.mp4\n",
      "Video saved to data/URFD/Fall\\Fall17\\Fall17.mp4\n",
      "Video saved to data/URFD/Fall\\Fall18\\Fall18.mp4\n",
      "Video saved to data/URFD/Fall\\Fall19\\Fall19.mp4\n",
      "Video saved to data/URFD/Fall\\Fall20\\Fall20.mp4\n",
      "Video saved to data/URFD/Fall\\Fall21\\Fall21.mp4\n",
      "Video saved to data/URFD/Fall\\Fall22\\Fall22.mp4\n",
      "Video saved to data/URFD/Fall\\Fall23\\Fall23.mp4\n",
      "Video saved to data/URFD/Fall\\Fall24\\Fall24.mp4\n",
      "Video saved to data/URFD/Fall\\Fall25\\Fall25.mp4\n",
      "Video saved to data/URFD/Fall\\Fall26\\Fall26.mp4\n",
      "Video saved to data/URFD/Fall\\Fall27\\Fall27.mp4\n",
      "Video saved to data/URFD/Fall\\Fall28\\Fall28.mp4\n",
      "Video saved to data/URFD/Fall\\Fall29\\Fall29.mp4\n",
      "Video saved to data/URFD/Fall\\Fall30\\Fall30.mp4\n",
      "Video saved to data/URFD/ADL\\NoFall01\\NoFall01.mp4\n",
      "Video saved to data/URFD/ADL\\NoFall02\\NoFall02.mp4\n",
      "Video saved to data/URFD/ADL\\NoFall03\\NoFall03.mp4\n",
      "Video saved to data/URFD/ADL\\NoFall04\\NoFall04.mp4\n",
      "Video saved to data/URFD/ADL\\NoFall05\\NoFall05.mp4\n",
      "Video saved to data/URFD/ADL\\NoFall06\\NoFall06.mp4\n",
      "Video saved to data/URFD/ADL\\NoFall07\\NoFall07.mp4\n",
      "Video saved to data/URFD/ADL\\NoFall08\\NoFall08.mp4\n",
      "Video saved to data/URFD/ADL\\NoFall09\\NoFall09.mp4\n",
      "Video saved to data/URFD/ADL\\NoFall10\\NoFall10.mp4\n",
      "Video saved to data/URFD/ADL\\NoFall11\\NoFall11.mp4\n",
      "Video saved to data/URFD/ADL\\NoFall12\\NoFall12.mp4\n",
      "Video saved to data/URFD/ADL\\NoFall13\\NoFall13.mp4\n",
      "Video saved to data/URFD/ADL\\NoFall14\\NoFall14.mp4\n",
      "Video saved to data/URFD/ADL\\NoFall15\\NoFall15.mp4\n",
      "Video saved to data/URFD/ADL\\NoFall16\\NoFall16.mp4\n",
      "Video saved to data/URFD/ADL\\NoFall17\\NoFall17.mp4\n",
      "Video saved to data/URFD/ADL\\NoFall18\\NoFall18.mp4\n",
      "Video saved to data/URFD/ADL\\NoFall19\\NoFall19.mp4\n",
      "Video saved to data/URFD/ADL\\NoFall20\\NoFall20.mp4\n",
      "Video saved to data/URFD/ADL\\NoFall21\\NoFall21.mp4\n",
      "Video saved to data/URFD/ADL\\NoFall22\\NoFall22.mp4\n",
      "Video saved to data/URFD/ADL\\NoFall23\\NoFall23.mp4\n",
      "Video saved to data/URFD/ADL\\NoFall24\\NoFall24.mp4\n",
      "Video saved to data/URFD/ADL\\NoFall25\\NoFall25.mp4\n",
      "Video saved to data/URFD/ADL\\NoFall26\\NoFall26.mp4\n",
      "Video saved to data/URFD/ADL\\NoFall27\\NoFall27.mp4\n",
      "Video saved to data/URFD/ADL\\NoFall28\\NoFall28.mp4\n",
      "Video saved to data/URFD/ADL\\NoFall29\\NoFall29.mp4\n",
      "Video saved to data/URFD/ADL\\NoFall30\\NoFall30.mp4\n",
      "Video saved to data/URFD/ADL\\NoFall31\\NoFall31.mp4\n",
      "Video saved to data/URFD/ADL\\NoFall32\\NoFall32.mp4\n",
      "Video saved to data/URFD/ADL\\NoFall33\\NoFall33.mp4\n",
      "Video saved to data/URFD/ADL\\NoFall34\\NoFall34.mp4\n",
      "Video saved to data/URFD/ADL\\NoFall35\\NoFall35.mp4\n",
      "Video saved to data/URFD/ADL\\NoFall36\\NoFall36.mp4\n",
      "Video saved to data/URFD/ADL\\NoFall37\\NoFall37.mp4\n",
      "Video saved to data/URFD/ADL\\NoFall38\\NoFall38.mp4\n",
      "Video saved to data/URFD/ADL\\NoFall39\\NoFall39.mp4\n",
      "Video saved to data/URFD/ADL\\NoFall40\\NoFall40.mp4\n"
     ]
    }
   ],
   "execution_count": 16
  }
 ],
 "metadata": {
  "kernelspec": {
   "display_name": "Python 3",
   "language": "python",
   "name": "python3"
  },
  "language_info": {
   "codemirror_mode": {
    "name": "ipython",
    "version": 2
   },
   "file_extension": ".py",
   "mimetype": "text/x-python",
   "name": "python",
   "nbconvert_exporter": "python",
   "pygments_lexer": "ipython2",
   "version": "2.7.6"
  }
 },
 "nbformat": 4,
 "nbformat_minor": 5
}
